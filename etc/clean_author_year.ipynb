{
 "cells": [
  {
   "cell_type": "code",
   "execution_count": 1,
   "metadata": {},
   "outputs": [
    {
     "name": "stdout",
     "output_type": "stream",
     "text": [
      "Mapping author time ...\n",
      "File read: ../data/author_time/wiki_author_time.json\n",
      "File read: author_time_map.json\n",
      "File read: ../notes/post_edit.json\n",
      "File read: ../notes/post_edit.json\n"
     ]
    }
   ],
   "source": [
    "import json\n",
    "import pandas as pd\n",
    "import numpy as np\n",
    "\n",
    "import sys\n",
    "from pathlib import Path\n",
    "if '../src' not in sys.path:\n",
    "    sys.path.append('../src')\n",
    "\n",
    "from dietcoke import dynaspan_lst"
   ]
  },
  {
   "cell_type": "code",
   "execution_count": 2,
   "metadata": {},
   "outputs": [
    {
     "name": "stdout",
     "output_type": "stream",
     "text": [
      "(1477, 9)\n"
     ]
    }
   ],
   "source": [
    "df = pd.read_csv('../data/author_time/author_profile.csv') \\\n",
    "    .dropna(subset=['mid_year', 'dynaspan'])\n",
    "df = df.loc[:, ~df.columns.str.contains('^Unnamed')]\n",
    "print(df.shape)"
   ]
  },
  {
   "cell_type": "code",
   "execution_count": 3,
   "metadata": {},
   "outputs": [
    {
     "data": {
      "text/plain": [
       "{'先秦': (-1046, -221),\n",
       " '漢': (-221, 220),\n",
       " '魏晉南北': (220, 589),\n",
       " '唐五代十國': (581, 1125),\n",
       " '宋元': (960, 1368),\n",
       " '明': (1368, 1644),\n",
       " '清': (1644, 1911),\n",
       " '民國': (1911, 1949)}"
      ]
     },
     "execution_count": 3,
     "metadata": {},
     "output_type": "execute_result"
    }
   ],
   "source": [
    "dynasties = pd.read_csv('/Users/mac/Documents/in_sync_mac/in_sync_documents/GIL/corpus/ctext/meta/dynasties.csv')\n",
    "dynaspan_df = dynasties.groupby('dynasty_group') \\\n",
    "    .agg({'yearfrom': ['min'], 'yearto': ['max']})\n",
    "lookup_yearrange = tuple(zip(dynaspan_df['yearfrom']['min'], dynaspan_df['yearto']['max']))\n",
    "\n",
    "lookup = dict(zip(dynaspan_lst, lookup_yearrange))\n",
    "lookup"
   ]
  },
  {
   "cell_type": "code",
   "execution_count": 4,
   "metadata": {},
   "outputs": [
    {
     "name": "stdout",
     "output_type": "stream",
     "text": [
      "(46, 12)\n"
     ]
    }
   ],
   "source": [
    "def is_valid_year(birth_year, death_year, dynaspan):\n",
    "    valid = True\n",
    "    year_start, year_end = lookup.get(dynaspan)\n",
    "    if birth_year > year_end: valid = False\n",
    "    if death_year < year_start: valid = False\n",
    "    return valid\n",
    "\n",
    "df['dynaspan_yearfrom'] = df['dynaspan'].apply(lambda x: lookup[x][0])\n",
    "df['dynaspan_yearto'] = df['dynaspan'].apply(lambda x: lookup[x][1])\n",
    "\n",
    "df['valid_birth_year'] = df.apply(lambda row: is_valid_year(row['birth_year'], row['mort_year'], row['dynaspan']), axis=1)\n",
    "print(df[df['valid_birth_year'] == False].shape)"
   ]
  },
  {
   "cell_type": "code",
   "execution_count": 5,
   "metadata": {},
   "outputs": [],
   "source": [
    "df[df['valid_birth_year'] == False].to_csv('author_profile_man.csv', index=False)"
   ]
  },
  {
   "cell_type": "code",
   "execution_count": 6,
   "metadata": {},
   "outputs": [
    {
     "name": "stdout",
     "output_type": "stream",
     "text": [
      "(74, 12)\n"
     ]
    }
   ],
   "source": [
    "name_cnt_df = df[['name', 'birth_year', 'mort_year', 'dynaspan']].drop_duplicates() \\\n",
    "    .groupby('name')['dynaspan'].count()\n",
    "name_cnt_df = pd.DataFrame(name_cnt_df) \\\n",
    "    .reset_index().rename({'dynaspan': 'dynaspan_cnt'}, axis=1)\n",
    "name_cnt_df = name_cnt_df[name_cnt_df['dynaspan_cnt'] > 1]\n",
    "name_cnt_df = df[df['name'].isin(name_cnt_df['name'])]\n",
    "print(name_cnt_df.shape)"
   ]
  },
  {
   "cell_type": "code",
   "execution_count": 7,
   "metadata": {},
   "outputs": [],
   "source": [
    "# name_cnt_df.to_csv('author_profile_man.csv', index=False, columns=False, mode='a')"
   ]
  }
 ],
 "metadata": {
  "interpreter": {
   "hash": "31002e1045040571bb605909eb291001a97d9c0ee2ddb09dce3fd55b3a637b52"
  },
  "kernelspec": {
   "display_name": "Python 3.8.6 64-bit ('.venv': venv)",
   "language": "python",
   "name": "python3"
  },
  "language_info": {
   "codemirror_mode": {
    "name": "ipython",
    "version": 3
   },
   "file_extension": ".py",
   "mimetype": "text/x-python",
   "name": "python",
   "nbconvert_exporter": "python",
   "pygments_lexer": "ipython3",
   "version": "3.8.6"
  },
  "orig_nbformat": 4
 },
 "nbformat": 4,
 "nbformat_minor": 2
}
