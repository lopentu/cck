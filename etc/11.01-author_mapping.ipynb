{
 "cells": [
  {
   "cell_type": "code",
   "execution_count": 1,
   "metadata": {},
   "outputs": [],
   "source": [
    "import sys, os\n",
    "from pathlib import Path\n",
    "if \"../src\" not in sys.path:\n",
    "    sys.path.append(\"../src\")\n",
    "    \n",
    "import re\n",
    "import pandas as pd\n",
    "from collections import defaultdict"
   ]
  },
  {
   "cell_type": "code",
   "execution_count": 2,
   "metadata": {},
   "outputs": [],
   "source": [
    "save_mode = True\n",
    "# if True, save generated data except for wiki_retrieved_data"
   ]
  },
  {
   "cell_type": "code",
   "execution_count": 3,
   "metadata": {},
   "outputs": [
    {
     "name": "stderr",
     "output_type": "stream",
     "text": [
      "100%|██████████| 9/9 [00:23<00:00,  2.56s/it]\n"
     ]
    },
    {
     "name": "stdout",
     "output_type": "stream",
     "text": [
      "File saved: ../data/author_time/names_clean.txt\n"
     ]
    }
   ],
   "source": [
    "from dietcoke.get_author import get_all_authors\n",
    "authors_tier1, authors_tier12, authors_uni = get_all_authors(save_names_clean=save_mode)"
   ]
  },
  {
   "cell_type": "code",
   "execution_count": 4,
   "metadata": {},
   "outputs": [
    {
     "name": "stdout",
     "output_type": "stream",
     "text": [
      "---\n",
      "Count of tier1: 30 / 120\n",
      "Coverage of tier1: 0.25\n",
      "---\n",
      "Count of tier12: 2772 / 2906\n",
      "Coverage of tier12: 0.95\n"
     ]
    }
   ],
   "source": [
    "from dietcoke.get_author import PAT_ANONYM\n",
    "## print\n",
    "cnt_tier1 = sum([not re.match(PAT_ANONYM, n) for n in authors_tier1])\n",
    "cnt_tier12 = sum([not re.match(PAT_ANONYM, n) for n in authors_tier12])\n",
    "\n",
    "print('---\\nCount of tier1:', cnt_tier1, '/', len(authors_tier1))\n",
    "print('Coverage of tier1:', round(cnt_tier1 / len(authors_tier1), 2))\n",
    "\n",
    "print('---\\nCount of tier12:', cnt_tier12, '/', len(authors_tier12))\n",
    "print('Coverage of tier12:', round(cnt_tier12 / len(authors_tier12), 2))"
   ]
  },
  {
   "cell_type": "code",
   "execution_count": 5,
   "metadata": {},
   "outputs": [],
   "source": [
    "# from dietcoke.get_author import PAT_ANONYM, get_wiki_data\n",
    "# get_wiki_data()"
   ]
  },
  {
   "cell_type": "code",
   "execution_count": 6,
   "metadata": {},
   "outputs": [
    {
     "name": "stdout",
     "output_type": "stream",
     "text": [
      "Count of retrieved data: 1182\n",
      "Count of author time info: 851\n"
     ]
    }
   ],
   "source": [
    "from dietcoke.get_author import get_wiki_author_time\n",
    "get_wiki_author_time(save_wiki_author_time=save_mode)"
   ]
  },
  {
   "cell_type": "code",
   "execution_count": 7,
   "metadata": {},
   "outputs": [
    {
     "name": "stdout",
     "output_type": "stream",
     "text": [
      "[['列御寇', [-375, -450]], ['刘安', [-179, -122]], ['伏胜', [-150, -250]], ['东方朔', [-93, -154]], ['班固', [32, 92]], ['班昭', [120, 49]], ['蔡邕', [132]], ['应劭', [150]], ['曹植', [192, 232]], ['郑康成', [200, 127]]]\n",
      "---\n",
      "[['徐谦', [1940, 1871]], ['周济', [1946]], ['陈玉树', [1953, 2017]], ['王希明', [1962]], ['胡翰', [1962, 1883]], ['金毓黻', [1962, 1887]], ['宋子安', [1969, 1906]], ['陈炜', [1973]], ['许嵩', [1986]], ['张昱', [1988]]]\n"
     ]
    }
   ],
   "source": [
    "from dietcoke.get_author import read_wiki_author_time\n",
    "wiki_author_time = read_wiki_author_time()\n",
    "print(wiki_author_time[:10])\n",
    "print('---')\n",
    "print(wiki_author_time[-10:])"
   ]
  },
  {
   "cell_type": "markdown",
   "metadata": {},
   "source": [
    "---"
   ]
  },
  {
   "cell_type": "code",
   "execution_count": 8,
   "metadata": {},
   "outputs": [
    {
     "name": "stdout",
     "output_type": "stream",
     "text": [
      "-----\n",
      " 先秦\n",
      "File saved: ../data/author_time/year_lineid_lookup_先秦.json\n",
      "=====\n",
      "Number of text with author and time: 41 / 41\n",
      "Done checking ...\n",
      "-----\n",
      " 漢\n",
      "File saved: ../data/author_time/year_lineid_lookup_漢.json\n",
      "=====\n",
      "Number of text with author and time: 79 / 79\n",
      "Done checking ...\n",
      "-----\n",
      " 魏晉南北\n",
      "File saved: ../data/author_time/year_lineid_lookup_魏晉南北.json\n",
      "=====\n",
      "Number of text with author and time: 79 / 79\n",
      "Done checking ...\n",
      "-----\n",
      " 唐五代十國\n",
      "File saved: ../data/author_time/year_lineid_lookup_唐五代十國.json\n",
      "=====\n",
      "Number of text with author and time: 182 / 182\n",
      "Done checking ...\n",
      "-----\n",
      " 宋元\n",
      "File saved: ../data/author_time/year_lineid_lookup_宋元.json\n",
      "=====\n",
      "Number of text with author and time: 811 / 811\n",
      "Done checking ...\n",
      "-----\n",
      " 明\n",
      "File saved: ../data/author_time/year_lineid_lookup_明.json\n",
      "=====\n",
      "Number of text with author and time: 430 / 430\n",
      "Done checking ...\n",
      "-----\n",
      " 清\n",
      "File saved: ../data/author_time/year_lineid_lookup_清.json\n",
      "=====\n",
      "Number of text with author and time: 1281 / 1281\n",
      "Done checking ...\n",
      "-----\n",
      " 民國\n",
      "File saved: ../data/author_time/year_lineid_lookup_民國.json\n",
      "=====\n",
      "Number of text with author and time: 3 / 3\n",
      "Done checking ...\n"
     ]
    }
   ],
   "source": [
    "from dietcoke import Corpus, dynaspan_lst, Author\n",
    "\n",
    "for dynaspan in dynaspan_lst:\n",
    "    print('-----\\n', dynaspan)\n",
    "    corpus = Corpus(dynaspan)\n",
    "    corpus.read_corpus()\n",
    "\n",
    "    corpus.get_author_time_lookup(save_lookup=save_mode)\n",
    "    author_time_corpus = corpus.get_author_time_corpus()\n",
    "\n",
    "    num_with_author = len(corpus.corpus)\n",
    "    if '-9999' in author_time_corpus:\n",
    "        num_with_author -= len(author_time_corpus['-9999'])\n",
    "\n",
    "    print('=====\\nNumber of text with author and time:', num_with_author, '/', str(len(corpus.corpus)))\n",
    "\n",
    "    corpus.check_author_time()"
   ]
  },
  {
   "cell_type": "markdown",
   "metadata": {},
   "source": [
    "---"
   ]
  },
  {
   "cell_type": "code",
   "execution_count": 9,
   "metadata": {},
   "outputs": [],
   "source": [
    "group_authors = defaultdict(list)\n",
    "for author, time in wiki_author_time:\n",
    "    group_authors[str(time)].append(author)"
   ]
  },
  {
   "cell_type": "code",
   "execution_count": 10,
   "metadata": {},
   "outputs": [
    {
     "name": "stdout",
     "output_type": "stream",
     "text": [
      "[1154, 1079] ['汪藻', '许叔微']\n",
      "[1472, 1529] ['李梦阳', '王守仁']\n",
      "[1474, 1420] ['叶盛', '岳正']\n",
      "[1512, 1565] ['胡宗宪', '韩叔阳']\n",
      "[1558, 1639] ['郝敬', '陈继儒']\n",
      "[1824, 1890] ['曾国荃', '黄彭年']\n",
      "[1842, 1906] ['姚振宗', '王之春']\n",
      "[1873, 1799] ['何绍基', '王柏心']\n",
      "[1894, 1838] ['薛福成', '陆心源']\n",
      "[1936, 1852] ['王树枏', '王树枬']\n"
     ]
    }
   ],
   "source": [
    "for life, author_lst in group_authors.items():\n",
    "    if len(author_lst) >= 2:\n",
    "        print(life, author_lst)"
   ]
  },
  {
   "cell_type": "markdown",
   "metadata": {},
   "source": [
    "---"
   ]
  },
  {
   "cell_type": "code",
   "execution_count": 11,
   "metadata": {},
   "outputs": [],
   "source": [
    "df = pd.DataFrame(list(group_authors.items()))\n",
    "df.columns = ('life', 'author_lst')\n",
    "df['mid_year'] = [Author(n[-1]).rep_year for n in df['author_lst']]\n",
    "\n",
    "if save_mode:\n",
    "    df.to_csv('../data/author_time/author_timeline.csv')"
   ]
  },
  {
   "cell_type": "code",
   "execution_count": 12,
   "metadata": {},
   "outputs": [
    {
     "data": {
      "text/html": [
       "<div>\n",
       "<style scoped>\n",
       "    .dataframe tbody tr th:only-of-type {\n",
       "        vertical-align: middle;\n",
       "    }\n",
       "\n",
       "    .dataframe tbody tr th {\n",
       "        vertical-align: top;\n",
       "    }\n",
       "\n",
       "    .dataframe thead th {\n",
       "        text-align: right;\n",
       "    }\n",
       "</style>\n",
       "<table border=\"1\" class=\"dataframe\">\n",
       "  <thead>\n",
       "    <tr style=\"text-align: right;\">\n",
       "      <th></th>\n",
       "      <th>life</th>\n",
       "      <th>author_lst</th>\n",
       "      <th>mid_year</th>\n",
       "    </tr>\n",
       "  </thead>\n",
       "  <tbody>\n",
       "    <tr>\n",
       "      <th>0</th>\n",
       "      <td>[-375, -450]</td>\n",
       "      <td>[列御寇]</td>\n",
       "      <td>-412</td>\n",
       "    </tr>\n",
       "    <tr>\n",
       "      <th>1</th>\n",
       "      <td>[-179, -122]</td>\n",
       "      <td>[刘安]</td>\n",
       "      <td>-151</td>\n",
       "    </tr>\n",
       "    <tr>\n",
       "      <th>2</th>\n",
       "      <td>[-150, -250]</td>\n",
       "      <td>[伏胜]</td>\n",
       "      <td>-200</td>\n",
       "    </tr>\n",
       "    <tr>\n",
       "      <th>3</th>\n",
       "      <td>[-93, -154]</td>\n",
       "      <td>[东方朔]</td>\n",
       "      <td>-124</td>\n",
       "    </tr>\n",
       "    <tr>\n",
       "      <th>4</th>\n",
       "      <td>[32, 92]</td>\n",
       "      <td>[班固]</td>\n",
       "      <td>62</td>\n",
       "    </tr>\n",
       "    <tr>\n",
       "      <th>...</th>\n",
       "      <td>...</td>\n",
       "      <td>...</td>\n",
       "      <td>...</td>\n",
       "    </tr>\n",
       "    <tr>\n",
       "      <th>836</th>\n",
       "      <td>[1962, 1887]</td>\n",
       "      <td>[金毓黻]</td>\n",
       "      <td>1925</td>\n",
       "    </tr>\n",
       "    <tr>\n",
       "      <th>837</th>\n",
       "      <td>[1969, 1906]</td>\n",
       "      <td>[宋子安]</td>\n",
       "      <td>1938</td>\n",
       "    </tr>\n",
       "    <tr>\n",
       "      <th>838</th>\n",
       "      <td>[1973]</td>\n",
       "      <td>[陈炜]</td>\n",
       "      <td>1973</td>\n",
       "    </tr>\n",
       "    <tr>\n",
       "      <th>839</th>\n",
       "      <td>[1986]</td>\n",
       "      <td>[许嵩]</td>\n",
       "      <td>1986</td>\n",
       "    </tr>\n",
       "    <tr>\n",
       "      <th>840</th>\n",
       "      <td>[1988]</td>\n",
       "      <td>[张昱]</td>\n",
       "      <td>1988</td>\n",
       "    </tr>\n",
       "  </tbody>\n",
       "</table>\n",
       "<p>841 rows × 3 columns</p>\n",
       "</div>"
      ],
      "text/plain": [
       "             life author_lst  mid_year\n",
       "0    [-375, -450]      [列御寇]      -412\n",
       "1    [-179, -122]       [刘安]      -151\n",
       "2    [-150, -250]       [伏胜]      -200\n",
       "3     [-93, -154]      [东方朔]      -124\n",
       "4        [32, 92]       [班固]        62\n",
       "..            ...        ...       ...\n",
       "836  [1962, 1887]      [金毓黻]      1925\n",
       "837  [1969, 1906]      [宋子安]      1938\n",
       "838        [1973]       [陈炜]      1973\n",
       "839        [1986]       [许嵩]      1986\n",
       "840        [1988]       [张昱]      1988\n",
       "\n",
       "[841 rows x 3 columns]"
      ]
     },
     "execution_count": 12,
     "metadata": {},
     "output_type": "execute_result"
    }
   ],
   "source": [
    "df"
   ]
  },
  {
   "cell_type": "code",
   "execution_count": 13,
   "metadata": {},
   "outputs": [],
   "source": [
    "# 莊述祖\n",
    "# 王树枏/王树枬"
   ]
  },
  {
   "cell_type": "markdown",
   "metadata": {},
   "source": [
    "---"
   ]
  },
  {
   "cell_type": "code",
   "execution_count": null,
   "metadata": {},
   "outputs": [],
   "source": [
    "from tqdm.auto import tqdm\n",
    "from dietcoke import corpus_lst, Author\n",
    "import numpy as np\n",
    "import pandas as pd"
   ]
  },
  {
   "cell_type": "code",
   "execution_count": null,
   "metadata": {},
   "outputs": [],
   "source": [
    "time = {}\n",
    "authors = []\n",
    "profiles = []\n",
    "for corpus in tqdm(corpus_lst()):\n",
    "    corpus.read_corpus()\n",
    "    dynaspan = corpus.dynaspan\n",
    "    for line in corpus.corpus:\n",
    "        time[line.urn] = Author(line.author).rep_year\n",
    "\n",
    "        line_authors = Author(line.author).name_norm\n",
    "        for profile in Author(line.author).author_profile:\n",
    "            profile['urn'] = line.urn\n",
    "            profile['title'] = line.obj['title']\n",
    "            profile['dynaspan'] = dynaspan\n",
    "            profile['year_source'] = 'wikisource'\n",
    "            profiles.append(profile)\n",
    "            line_authors.remove(profile['name'])\n",
    "        authors += [{'name': name,\n",
    "        'urn': line.urn, 'title': line.obj['title'], 'dynaspan': dynaspan} for name in line_authors]"
   ]
  },
  {
   "cell_type": "code",
   "execution_count": null,
   "metadata": {},
   "outputs": [],
   "source": [
    "profile_df = pd.DataFrame(profiles).sort_values(['birth_year', 'name'])\n",
    "author_df = pd.DataFrame(authors).sort_values('name')\n",
    "profile_df = pd.merge(profile_df, author_df, how='outer')"
   ]
  },
  {
   "cell_type": "code",
   "execution_count": null,
   "metadata": {},
   "outputs": [],
   "source": [
    "profile_df.to_csv('author_profile.csv')"
   ]
  }
 ],
 "metadata": {
  "interpreter": {
   "hash": "31002e1045040571bb605909eb291001a97d9c0ee2ddb09dce3fd55b3a637b52"
  },
  "kernelspec": {
   "display_name": "Python 3.8.6 64-bit ('.venv': venv)",
   "name": "python3"
  },
  "language_info": {
   "codemirror_mode": {
    "name": "ipython",
    "version": 3
   },
   "file_extension": ".py",
   "mimetype": "text/x-python",
   "name": "python",
   "nbconvert_exporter": "python",
   "pygments_lexer": "ipython3",
   "version": "3.8.6"
  },
  "orig_nbformat": 4
 },
 "nbformat": 4,
 "nbformat_minor": 2
}
