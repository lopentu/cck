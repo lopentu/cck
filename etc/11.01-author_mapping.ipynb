{
 "cells": [
  {
   "cell_type": "code",
   "execution_count": 1,
   "metadata": {},
   "outputs": [],
   "source": [
    "import sys, os\n",
    "from pathlib import Path\n",
    "if \"../src\" not in sys.path:\n",
    "    sys.path.append(\"../src\")\n",
    "    \n",
    "import re\n",
    "import pandas as pd\n",
    "from collections import defaultdict"
   ]
  },
  {
   "cell_type": "code",
   "execution_count": 2,
   "metadata": {},
   "outputs": [],
   "source": [
    "save_mode = True # if True, save generated data except for wiki_retrieved_data\n",
    "post_edit_mode = True # if True, add author time from notes"
   ]
  },
  {
   "cell_type": "code",
   "execution_count": 3,
   "metadata": {},
   "outputs": [
    {
     "name": "stdout",
     "output_type": "stream",
     "text": [
      "No author time map ...\n"
     ]
    },
    {
     "name": "stderr",
     "output_type": "stream",
     "text": [
      "100%|██████████| 9/9 [00:22<00:00,  2.50s/it]\n"
     ]
    },
    {
     "name": "stdout",
     "output_type": "stream",
     "text": [
      "File saved: ../data/author_time/names_clean.txt\n"
     ]
    }
   ],
   "source": [
    "from dietcoke.get_author import get_all_authors\n",
    "authors_tier1, authors_tier12, authors_uni = get_all_authors(save_names_clean=save_mode)"
   ]
  },
  {
   "cell_type": "code",
   "execution_count": 4,
   "metadata": {},
   "outputs": [
    {
     "name": "stdout",
     "output_type": "stream",
     "text": [
      "---\n",
      "Count of tier1: 30 / 120\n",
      "Coverage of tier1: 0.25\n",
      "---\n",
      "Count of tier12: 2772 / 2906\n",
      "Coverage of tier12: 0.95\n"
     ]
    }
   ],
   "source": [
    "## print\n",
    "from dietcoke.get_author import PAT_ANONYM\n",
    "cnt_tier1 = sum([not re.match(PAT_ANONYM, n) for n in authors_tier1])\n",
    "cnt_tier12 = sum([not re.match(PAT_ANONYM, n) for n in authors_tier12])\n",
    "\n",
    "print('---\\nCount of tier1:', cnt_tier1, '/', len(authors_tier1))\n",
    "print('Coverage of tier1:', round(cnt_tier1 / len(authors_tier1), 2))\n",
    "\n",
    "print('---\\nCount of tier12:', cnt_tier12, '/', len(authors_tier12))\n",
    "print('Coverage of tier12:', round(cnt_tier12 / len(authors_tier12), 2))"
   ]
  },
  {
   "cell_type": "code",
   "execution_count": 5,
   "metadata": {},
   "outputs": [],
   "source": [
    "# from dietcoke.get_author import get_wiki_data\n",
    "# get_wiki_data()"
   ]
  },
  {
   "cell_type": "markdown",
   "metadata": {},
   "source": [
    "---"
   ]
  },
  {
   "cell_type": "code",
   "execution_count": 3,
   "metadata": {},
   "outputs": [
    {
     "name": "stdout",
     "output_type": "stream",
     "text": [
      "No author time map ...\n",
      "File read: ../data/author_time/wiki_retrieved_data.pkl\n",
      "File saved: ../data/author_time/wiki_author_time.json\n",
      "Count of retrieved data: 1182\n",
      "Count of author time info: 855\n"
     ]
    }
   ],
   "source": [
    "from dietcoke.get_author import get_wiki_author_time\n",
    "get_wiki_author_time(save_wiki_author_time=save_mode)"
   ]
  },
  {
   "cell_type": "code",
   "execution_count": 3,
   "metadata": {},
   "outputs": [
    {
     "name": "stdout",
     "output_type": "stream",
     "text": [
      "Mapping author time ...\n",
      "File read: ../data/author_time/wiki_author_time.json\n",
      "File read: author_time_map.json\n",
      "File read: ../notes/post_edit.json\n",
      "File read: ../data/author_time/wiki_author_time.json\n",
      "File read: author_time_map.json\n",
      "File read: ../notes/post_edit.json\n",
      "943\n"
     ]
    }
   ],
   "source": [
    "from dietcoke.author import get_author_time_map\n",
    "author_time = get_author_time_map()\n",
    "print(len(author_time))"
   ]
  },
  {
   "cell_type": "code",
   "execution_count": 4,
   "metadata": {},
   "outputs": [
    {
     "data": {
      "text/plain": [
       "[('旧题管仲', [-725, -645]),\n",
       " ('管仲', [-725, -645]),\n",
       " ('左丘明', [-556, -451]),\n",
       " ('孙武', [-544, -470]),\n",
       " ('墨翟', [-468, -376]),\n",
       " ('列御寇', [-450, -375]),\n",
       " ('吴起', [-440, -381]),\n",
       " ('慎到', [-395, -315]),\n",
       " ('李斯', [-284, -208]),\n",
       " ('韩非', [-281, -233])]"
      ]
     },
     "execution_count": 4,
     "metadata": {},
     "output_type": "execute_result"
    }
   ],
   "source": [
    "sorted(author_time.items(), key=lambda x: x[1])[:10]"
   ]
  },
  {
   "cell_type": "code",
   "execution_count": 5,
   "metadata": {},
   "outputs": [
    {
     "name": "stdout",
     "output_type": "stream",
     "text": [
      "-----\n",
      " 先秦\n",
      "7 / 40\n",
      "-----\n",
      " 漢\n",
      "28 / 78\n",
      "-----\n",
      " 魏晉南北\n",
      "46 / 78\n",
      "-----\n",
      " 唐五代十國\n",
      "104 / 181\n",
      "-----\n",
      " 宋元\n",
      "356 / 810\n",
      "-----\n",
      " 明\n",
      "251 / 429\n",
      "-----\n",
      " 清\n",
      "705 / 1280\n",
      "-----\n",
      " 民國\n",
      "2 / 2\n"
     ]
    }
   ],
   "source": [
    "from dietcoke import Corpus, dynaspan_lst, Author\n",
    "\n",
    "for dynaspan in dynaspan_lst:\n",
    "    print('-----\\n', dynaspan)\n",
    "    corpus = Corpus(dynaspan)\n",
    "    corpus.read_corpus()\n",
    "\n",
    "    c = 0\n",
    "    for i, line in enumerate(corpus.corpus):\n",
    "        rep_year = Author(line.author).rep_year\n",
    "        if rep_year != -9999:\n",
    "            c += 1\n",
    "    print(c, '/', i)"
   ]
  },
  {
   "cell_type": "code",
   "execution_count": 6,
   "metadata": {},
   "outputs": [
    {
     "name": "stdout",
     "output_type": "stream",
     "text": [
      "File read: ../data/author_time/wiki_author_time.json\n",
      "[1079, 1154] ['汪藻', '许叔微']\n",
      "[1420, 1474] ['岳正', '叶盛']\n",
      "[1472, 1529] ['李梦阳', '王守仁']\n",
      "[1512, 1565] ['胡宗宪', '韩叔阳']\n",
      "[1558, 1639] ['郝敬', '陈继儒']\n",
      "[1799, 1873] ['何绍基', '王柏心']\n",
      "[1824, 1890] ['曾国荃', '黄彭年']\n",
      "[1838, 1894] ['薛福成', '陆心源']\n",
      "[1842, 1906] ['姚振宗', '王之春']\n",
      "[1852, 1936] ['王树枏', '王树枬']\n"
     ]
    }
   ],
   "source": [
    "from dietcoke.author import get_author_time_map\n",
    "group_authors = defaultdict(list)\n",
    "for author, time in get_author_time_map(merge_data=False).items():\n",
    "    group_authors[str(time)].append(author)\n",
    "\n",
    "for life, author_lst in group_authors.items():\n",
    "    if len(author_lst) >= 2:\n",
    "        print(life, author_lst)"
   ]
  },
  {
   "cell_type": "code",
   "execution_count": 7,
   "metadata": {},
   "outputs": [
    {
     "data": {
      "text/html": [
       "<div>\n",
       "<style scoped>\n",
       "    .dataframe tbody tr th:only-of-type {\n",
       "        vertical-align: middle;\n",
       "    }\n",
       "\n",
       "    .dataframe tbody tr th {\n",
       "        vertical-align: top;\n",
       "    }\n",
       "\n",
       "    .dataframe thead th {\n",
       "        text-align: right;\n",
       "    }\n",
       "</style>\n",
       "<table border=\"1\" class=\"dataframe\">\n",
       "  <thead>\n",
       "    <tr style=\"text-align: right;\">\n",
       "      <th></th>\n",
       "      <th>life</th>\n",
       "      <th>author_lst</th>\n",
       "      <th>mid_year</th>\n",
       "    </tr>\n",
       "  </thead>\n",
       "  <tbody>\n",
       "    <tr>\n",
       "      <th>0</th>\n",
       "      <td>[-450, -375]</td>\n",
       "      <td>[列御寇]</td>\n",
       "      <td>-412</td>\n",
       "    </tr>\n",
       "    <tr>\n",
       "      <th>1</th>\n",
       "      <td>[-250, -150]</td>\n",
       "      <td>[伏胜]</td>\n",
       "      <td>-200</td>\n",
       "    </tr>\n",
       "    <tr>\n",
       "      <th>2</th>\n",
       "      <td>[-179, -122]</td>\n",
       "      <td>[刘安]</td>\n",
       "      <td>-151</td>\n",
       "    </tr>\n",
       "    <tr>\n",
       "      <th>3</th>\n",
       "      <td>[-154, -93]</td>\n",
       "      <td>[东方朔]</td>\n",
       "      <td>-124</td>\n",
       "    </tr>\n",
       "    <tr>\n",
       "      <th>4</th>\n",
       "      <td>[32, 92]</td>\n",
       "      <td>[班固]</td>\n",
       "      <td>62</td>\n",
       "    </tr>\n",
       "    <tr>\n",
       "      <th>...</th>\n",
       "      <td>...</td>\n",
       "      <td>...</td>\n",
       "      <td>...</td>\n",
       "    </tr>\n",
       "    <tr>\n",
       "      <th>836</th>\n",
       "      <td>[1953, 2017]</td>\n",
       "      <td>[陈玉树]</td>\n",
       "      <td>1985</td>\n",
       "    </tr>\n",
       "    <tr>\n",
       "      <th>837</th>\n",
       "      <td>[1962]</td>\n",
       "      <td>[王希明]</td>\n",
       "      <td>1962</td>\n",
       "    </tr>\n",
       "    <tr>\n",
       "      <th>838</th>\n",
       "      <td>[1973]</td>\n",
       "      <td>[陈炜]</td>\n",
       "      <td>1973</td>\n",
       "    </tr>\n",
       "    <tr>\n",
       "      <th>839</th>\n",
       "      <td>[1986]</td>\n",
       "      <td>[许嵩]</td>\n",
       "      <td>1986</td>\n",
       "    </tr>\n",
       "    <tr>\n",
       "      <th>840</th>\n",
       "      <td>[1988]</td>\n",
       "      <td>[张昱]</td>\n",
       "      <td>1988</td>\n",
       "    </tr>\n",
       "  </tbody>\n",
       "</table>\n",
       "<p>841 rows × 3 columns</p>\n",
       "</div>"
      ],
      "text/plain": [
       "             life author_lst  mid_year\n",
       "0    [-450, -375]      [列御寇]      -412\n",
       "1    [-250, -150]       [伏胜]      -200\n",
       "2    [-179, -122]       [刘安]      -151\n",
       "3     [-154, -93]      [东方朔]      -124\n",
       "4        [32, 92]       [班固]        62\n",
       "..            ...        ...       ...\n",
       "836  [1953, 2017]      [陈玉树]      1985\n",
       "837        [1962]      [王希明]      1962\n",
       "838        [1973]       [陈炜]      1973\n",
       "839        [1986]       [许嵩]      1986\n",
       "840        [1988]       [张昱]      1988\n",
       "\n",
       "[841 rows x 3 columns]"
      ]
     },
     "execution_count": 7,
     "metadata": {},
     "output_type": "execute_result"
    }
   ],
   "source": [
    "df = pd.DataFrame(list(group_authors.items()))\n",
    "df.columns = ('life', 'author_lst')\n",
    "df['mid_year'] = [Author(n[-1]).rep_year for n in df['author_lst']]\n",
    "df.sort_values('mid_year')\n",
    "\n",
    "if save_mode:\n",
    "    df.to_csv('../data/author_time/author_timeline.csv')\n",
    "\n",
    "df"
   ]
  },
  {
   "cell_type": "code",
   "execution_count": 8,
   "metadata": {},
   "outputs": [],
   "source": [
    "# 莊述祖\n",
    "# 王树枏/王树枬"
   ]
  },
  {
   "cell_type": "markdown",
   "metadata": {},
   "source": [
    "---"
   ]
  },
  {
   "cell_type": "code",
   "execution_count": 9,
   "metadata": {},
   "outputs": [
    {
     "name": "stderr",
     "output_type": "stream",
     "text": [
      "100%|██████████| 8/8 [00:22<00:00,  2.84s/it]\n"
     ]
    }
   ],
   "source": [
    "from tqdm.auto import tqdm\n",
    "from dietcoke import corpus_lst, Author\n",
    "import pandas as pd\n",
    "\n",
    "authors = []\n",
    "profiles = []\n",
    "for corpus in tqdm(corpus_lst()):\n",
    "    corpus.read_corpus()\n",
    "    dynaspan = corpus.dynaspan\n",
    "    for line in corpus.corpus:\n",
    "        line_authors = Author(line.author).name_norm\n",
    "        for profile in Author(line.author).author_profile:\n",
    "            profile['urn'] = line.urn\n",
    "            profile['title'] = line.obj['title']\n",
    "            profile['dynaspan'] = dynaspan\n",
    "            profiles.append(profile)\n",
    "            line_authors.remove(profile['name'])\n",
    "        authors += [{'name': name,\n",
    "        'urn': line.urn, 'title': line.obj['title'], 'dynaspan': dynaspan} for name in line_authors]\n",
    "\n",
    "profile_df = pd.DataFrame(profiles).sort_values(['birth_year', 'name'])\n",
    "author_df = pd.DataFrame(authors).sort_values('name')\n",
    "profile_df = pd.merge(profile_df, author_df, how='outer')\n",
    "\n",
    "if save_mode:\n",
    "    profile_df.to_csv('author_profile.csv')"
   ]
  }
 ],
 "metadata": {
  "interpreter": {
   "hash": "31002e1045040571bb605909eb291001a97d9c0ee2ddb09dce3fd55b3a637b52"
  },
  "kernelspec": {
   "display_name": "Python 3.8.6 64-bit ('.venv': venv)",
   "name": "python3"
  },
  "language_info": {
   "codemirror_mode": {
    "name": "ipython",
    "version": 3
   },
   "file_extension": ".py",
   "mimetype": "text/x-python",
   "name": "python",
   "nbconvert_exporter": "python",
   "pygments_lexer": "ipython3",
   "version": "3.8.6"
  },
  "orig_nbformat": 4
 },
 "nbformat": 4,
 "nbformat_minor": 2
}
