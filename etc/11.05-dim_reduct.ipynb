{
 "cells": [
  {
   "cell_type": "code",
   "execution_count": 1,
   "metadata": {},
   "outputs": [],
   "source": [
    "import sys, os\n",
    "from pathlib import Path\n",
    "if \"../src\" not in sys.path:\n",
    "    sys.path.append(\"../src\")"
   ]
  },
  {
   "cell_type": "code",
   "execution_count": 2,
   "metadata": {},
   "outputs": [],
   "source": [
    "# from scipy import sparse\n",
    "# from tqdm.auto import tqdm\n",
    "\n",
    "# fps = sorted([f for f in Path('../data/chunked_freq').glob('*清*.npz')])\n",
    "# mats = [sparse.load_npz(fp) for fp in tqdm(fps)]\n",
    "# mat = sparse.hstack(mats)\n",
    "# sparse.save_npz('chunked_freq_清.npz', mat)"
   ]
  },
  {
   "cell_type": "code",
   "execution_count": 3,
   "metadata": {},
   "outputs": [],
   "source": [
    "# import json\n",
    "# import re\n",
    "\n",
    "# with open('../data/chunked_freq/text_slice_lookup.json', 'r', encoding='utf-8') as f:\n",
    "#     text_slice_lookup = json.load(f)\n",
    "\n",
    "# lst = [text_slice_lookup[k] for k in sorted(list(text_slice_lookup.keys())) if '清' in k]\n",
    "# lst = [n for m in lst for n in m]\n",
    "\n",
    "# # mat.shape[1] == len(lst)\n",
    "# text_slice_lookup['chunked_freq_清'] = lst\n",
    "# print(text_slice_lookup.keys())\n",
    "\n",
    "# with open('text_slice_lookup.json', 'w', encoding='utf-8') as f:\n",
    "#     json.dump(text_slice_lookup, f)"
   ]
  },
  {
   "cell_type": "code",
   "execution_count": 4,
   "metadata": {},
   "outputs": [],
   "source": [
    "import json\n",
    "from scipy import sparse\n",
    "from tqdm.auto import tqdm\n",
    "from dietcoke import dynaspan_lst, corpus_lst, Author\n",
    "import numpy as np\n",
    "import pandas as pd"
   ]
  },
  {
   "cell_type": "code",
   "execution_count": 5,
   "metadata": {},
   "outputs": [],
   "source": [
    "FOLDER = Path('../data/chunked_freq')\n",
    "\n",
    "with open(FOLDER / 'text_slice_lookup.json', 'r', encoding='utf-8') as f:\n",
    "    text_slice_lookup = json.load(f)\n",
    "\n",
    "profile_df = pd.read_csv('../data/author_time/author_profile.csv').dropna(subset=['mid_year'])\n",
    "dic = dict(zip(profile_df['urn'], profile_df['mid_year']))"
   ]
  },
  {
   "cell_type": "code",
   "execution_count": 6,
   "metadata": {},
   "outputs": [
    {
     "name": "stderr",
     "output_type": "stream",
     "text": [
      " 12%|█▎        | 1/8 [00:00<00:00,  9.16it/s]"
     ]
    },
    {
     "name": "stdout",
     "output_type": "stream",
     "text": [
      "(54227, 12)\n"
     ]
    },
    {
     "name": "stderr",
     "output_type": "stream",
     "text": [
      " 25%|██▌       | 2/8 [00:02<00:07,  1.25s/it]"
     ]
    },
    {
     "name": "stdout",
     "output_type": "stream",
     "text": [
      "(54227, 675)\n"
     ]
    },
    {
     "name": "stderr",
     "output_type": "stream",
     "text": [
      " 38%|███▊      | 3/8 [00:04<00:09,  1.85s/it]"
     ]
    },
    {
     "name": "stdout",
     "output_type": "stream",
     "text": [
      "(54227, 1181)\n"
     ]
    },
    {
     "name": "stderr",
     "output_type": "stream",
     "text": [
      " 50%|█████     | 4/8 [00:11<00:14,  3.66s/it]"
     ]
    },
    {
     "name": "stdout",
     "output_type": "stream",
     "text": [
      "(54227, 2226)\n",
      "(54227, 8443)\n"
     ]
    },
    {
     "name": "stderr",
     "output_type": "stream",
     "text": [
      " 62%|██████▎   | 5/8 [00:47<00:46, 15.62s/it]"
     ]
    },
    {
     "name": "stdout",
     "output_type": "stream",
     "text": [
      "(54227, 7489)\n"
     ]
    },
    {
     "name": "stderr",
     "output_type": "stream",
     "text": [
      " 75%|███████▌  | 6/8 [01:16<00:39, 19.85s/it]"
     ]
    },
    {
     "name": "stdout",
     "output_type": "stream",
     "text": [
      "(54227, 25778)\n"
     ]
    },
    {
     "name": "stderr",
     "output_type": "stream",
     "text": [
      " 88%|████████▊ | 7/8 [04:47<01:22, 82.62s/it]"
     ]
    },
    {
     "name": "stdout",
     "output_type": "stream",
     "text": [
      "(54227, 256)\n"
     ]
    },
    {
     "name": "stderr",
     "output_type": "stream",
     "text": [
      "100%|██████████| 8/8 [04:50<00:00, 36.32s/it]\n"
     ]
    }
   ],
   "source": [
    "mat = None\n",
    "for dynaspan in tqdm(dynaspan_lst):\n",
    "    dyna_mat = sparse.load_npz(f'../data/chunked_freq/chunked_freq_{dynaspan}.npz')\n",
    "    cols = [i for i, n in enumerate(text_slice_lookup[f'chunked_freq_{dynaspan}']) if n.split('_')[0] in dic.keys()]\n",
    "    \n",
    "    dyna_mat = dyna_mat.todense()[:,cols]\n",
    "    dyna_mat = sparse.csr_matrix(dyna_mat)\n",
    "    print(dyna_mat.shape)\n",
    "\n",
    "    if mat is None:\n",
    "        mat = dyna_mat\n",
    "    else:\n",
    "        mat = sparse.hstack([mat, dyna_mat])"
   ]
  },
  {
   "cell_type": "code",
   "execution_count": 7,
   "metadata": {},
   "outputs": [
    {
     "data": {
      "text/plain": [
       "(54227, 46060)"
      ]
     },
     "execution_count": 7,
     "metadata": {},
     "output_type": "execute_result"
    }
   ],
   "source": [
    "mat.shape"
   ]
  },
  {
   "cell_type": "code",
   "execution_count": 10,
   "metadata": {},
   "outputs": [],
   "source": [
    "from scipy.sparse.linalg import svds, eigs\n",
    "from scipy import sparse\n",
    "\n",
    "mat = dyna_mat.astype(np.float64)\n",
    "u, s, vt = svds(mat, k=2)"
   ]
  },
  {
   "cell_type": "code",
   "execution_count": 11,
   "metadata": {},
   "outputs": [
    {
     "data": {
      "text/plain": [
       "<matplotlib.lines.Line2D at 0x11dc975b0>"
      ]
     },
     "execution_count": 11,
     "metadata": {},
     "output_type": "execute_result"
    },
    {
     "data": {
      "image/png": "[encoded data removed]",
      "text/plain": [
       "<Figure size 432x288 with 1 Axes>"
      ]
     },
     "metadata": {
      "needs_background": "light"
     },
     "output_type": "display_data"
    }
   ],
   "source": [
    "import matplotlib.pyplot as plt\n",
    "\n",
    "plt.spy(mat, aspect='auto', markersize=1)"
   ]
  },
  {
   "cell_type": "code",
   "execution_count": 12,
   "metadata": {},
   "outputs": [],
   "source": [
    "import pickle\n",
    "\n",
    "for fn, n in zip(['u', 's', 'vt'], [u, s, vt]):\n",
    "    with open(f'sparse_svd_{fn}.pickle', 'wb') as f:\n",
    "        pickle.dump(n, f)"
   ]
  }
 ],
 "metadata": {
  "interpreter": {
   "hash": "31002e1045040571bb605909eb291001a97d9c0ee2ddb09dce3fd55b3a637b52"
  },
  "kernelspec": {
   "display_name": "Python 3.8.6 64-bit ('.venv': venv)",
   "name": "python3"
  },
  "language_info": {
   "codemirror_mode": {
    "name": "ipython",
    "version": 3
   },
   "file_extension": ".py",
   "mimetype": "text/x-python",
   "name": "python",
   "nbconvert_exporter": "python",
   "pygments_lexer": "ipython3",
   "version": "3.8.6"
  },
  "orig_nbformat": 4
 },
 "nbformat": 4,
 "nbformat_minor": 2
}
