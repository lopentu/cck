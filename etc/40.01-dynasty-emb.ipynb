{
 "cells": [
  {
   "cell_type": "code",
   "execution_count": 1,
   "id": "96b8ae3a-791a-4ca4-b884-6f923c10a1f2",
   "metadata": {},
   "outputs": [],
   "source": [
    "from pathlib import Path\n",
    "import json\n",
    "import numpy as np\n",
    "from tqdm.auto import tqdm\n",
    "from gensim import corpora\n",
    "from gensim.models import LsiModel\n",
    "from gensim.models import KeyedVectors"
   ]
  },
  {
   "cell_type": "code",
   "execution_count": 2,
   "id": "e6f9ed2d-fd1f-4e98-a406-4e567946bff3",
   "metadata": {},
   "outputs": [],
   "source": [
    "def extract_text(text_path):\n",
    "    fin = open(text_path, \"r\", encoding=\"UTF-8\")\n",
    "    json_objs = []\n",
    "    for ln in fin:\n",
    "        json_data = json.loads(ln)\n",
    "        json_objs.append(json_data)\n",
    "    fin.close()\n",
    "    \n",
    "    text = []\n",
    "    for j_idx, jobj in enumerate(tqdm(json_objs)):\n",
    "        for text_idx, text_obj in enumerate(jobj[\"text\"]):            \n",
    "            if isinstance(text_obj[\"c\"], list):\n",
    "                text.append(list(text_obj[\"t\"]) + \n",
    "                            list(\"\\n\".join(text_obj[\"c\"])))\n",
    "            else:\n",
    "                text.append(list(text_obj[\"t\"]) + \n",
    "                            list(text_obj[\"c\"]))\n",
    "    return text"
   ]
  },
  {
   "cell_type": "code",
   "execution_count": 3,
   "id": "e1b9058b-7305-48a4-b839-2bc1ebf1f214",
   "metadata": {},
   "outputs": [
    {
     "data": {
      "text/plain": [
       "[PosixPath('../corpus/dynasty_split/宋元.jsonl'),\n",
       " PosixPath('../corpus/dynasty_split/魏晉南北.jsonl'),\n",
       " PosixPath('../corpus/dynasty_split/tier1.jsonl'),\n",
       " PosixPath('../corpus/dynasty_split/明.jsonl'),\n",
       " PosixPath('../corpus/dynasty_split/民國.jsonl'),\n",
       " PosixPath('../corpus/dynasty_split/清.jsonl'),\n",
       " PosixPath('../corpus/dynasty_split/漢.jsonl'),\n",
       " PosixPath('../corpus/dynasty_split/唐五代十國.jsonl'),\n",
       " PosixPath('../corpus/dynasty_split/先秦.jsonl')]"
      ]
     },
     "execution_count": 3,
     "metadata": {},
     "output_type": "execute_result"
    }
   ],
   "source": [
    "text_path_list = list(Path(\"../corpus/dynasty_split/\").glob(\"*.jsonl\"))\n",
    "text_path_list"
   ]
  },
  {
   "cell_type": "code",
   "execution_count": 4,
   "id": "42882637-642b-4406-9a8c-dbe84757947e",
   "metadata": {},
   "outputs": [
    {
     "data": {
      "application/vnd.jupyter.widget-view+json": {
       "model_id": "a04caad0f3f94242b67bb32ca7c55ded",
       "version_major": 2,
       "version_minor": 0
      },
      "text/plain": [
       "  0%|          | 0/41 [00:00<?, ?it/s]"
      ]
     },
     "metadata": {},
     "output_type": "display_data"
    },
    {
     "data": {
      "application/vnd.jupyter.widget-view+json": {
       "model_id": "44628917a91f4262b599639dc00a977b",
       "version_major": 2,
       "version_minor": 0
      },
      "text/plain": [
       "  0%|          | 0/79 [00:00<?, ?it/s]"
      ]
     },
     "metadata": {},
     "output_type": "display_data"
    },
    {
     "data": {
      "application/vnd.jupyter.widget-view+json": {
       "model_id": "d13862eb7b1c4d90bc8d03a0c7c9d40a",
       "version_major": 2,
       "version_minor": 0
      },
      "text/plain": [
       "  0%|          | 0/79 [00:00<?, ?it/s]"
      ]
     },
     "metadata": {},
     "output_type": "display_data"
    }
   ],
   "source": [
    "dyn0 = extract_text(\"../corpus/dynasty_split/先秦.jsonl\")\n",
    "dyn1 = extract_text(\"../corpus/dynasty_split/漢.jsonl\")\n",
    "dyn2 = extract_text('../corpus/dynasty_split/魏晉南北.jsonl')"
   ]
  },
  {
   "cell_type": "code",
   "execution_count": 5,
   "id": "88b0154b-145a-4276-9e0a-a923d59735c0",
   "metadata": {},
   "outputs": [
    {
     "data": {
      "text/plain": [
       "(755, 1562, 1380)"
      ]
     },
     "execution_count": 5,
     "metadata": {},
     "output_type": "execute_result"
    }
   ],
   "source": [
    "len(dyn0), len(dyn1), len(dyn2)"
   ]
  },
  {
   "cell_type": "markdown",
   "id": "c9125186-73f2-424f-a6c0-70fb3e2ec35d",
   "metadata": {},
   "source": [
    "## Basic statistics"
   ]
  },
  {
   "cell_type": "code",
   "execution_count": 6,
   "id": "14488f28-8272-454c-86d2-3b6047470948",
   "metadata": {},
   "outputs": [
    {
     "name": "stdout",
     "output_type": "stream",
     "text": [
      "dyn0 char count 2241345\n",
      "dyn1 char count 13152213\n",
      "dyn2 char count 16740426\n"
     ]
    }
   ],
   "source": [
    "print(\"dyn0 char count\", sum(len(x) for x in dyn0))\n",
    "print(\"dyn1 char count\", sum(len(x) for x in dyn1))\n",
    "print(\"dyn2 char count\", sum(len(x) for x in dyn2))"
   ]
  },
  {
   "cell_type": "code",
   "execution_count": 7,
   "id": "9b923085-3f0a-4aae-a16d-820124528ef5",
   "metadata": {},
   "outputs": [],
   "source": [
    "def make_lsa_vec(dyn_data):\n",
    "    vocab = corpora.Dictionary(dyn_data)\n",
    "    vocab.filter_extremes(no_below=5)    \n",
    "    docmat = [vocab.doc2bow(x) for x in dyn_data]\n",
    "    lsa = LsiModel(docmat)\n",
    "    lsavec = lsa.projection.u * lsa.projection.s\n",
    "    kv = KeyedVectors(200)    \n",
    "    kv.add_vectors(list(vocab.token2id.keys()), lsavec)\n",
    "    print(\"vocab: \", len(kv.index_to_key))\n",
    "    return kv"
   ]
  },
  {
   "cell_type": "code",
   "execution_count": 8,
   "id": "3bcdf2a0-168a-4b19-8654-13f0631bfb54",
   "metadata": {},
   "outputs": [
    {
     "name": "stdout",
     "output_type": "stream",
     "text": [
      "Running dyn0\n",
      "vocab:  4324\n",
      "Running dyn1\n",
      "vocab:  6609\n",
      "Running dyn2\n",
      "vocab:  7347\n"
     ]
    }
   ],
   "source": [
    "print(\"Running dyn0\"); kv0 = make_lsa_vec(dyn0)\n",
    "print(\"Running dyn1\"); kv1 = make_lsa_vec(dyn1)\n",
    "print(\"Running dyn2\"); kv2 = make_lsa_vec(dyn2)"
   ]
  },
  {
   "cell_type": "code",
   "execution_count": 9,
   "id": "12a4f9e8-2cc8-47cc-8f48-d107f334b6ae",
   "metadata": {},
   "outputs": [],
   "source": [
    "kv_list = [\n",
    "    {\"kv\": kv0, \"note\": \"dynasty_split/先秦.jsonl\"},\n",
    "    {\"kv\": kv1, \"note\": \"dynasty_split/漢.jsonl\"},\n",
    "    {\"kv\": kv2, \"note\": \"dynasty_split/魏晉南北.jsonl\"}\n",
    "]"
   ]
  },
  {
   "cell_type": "code",
   "execution_count": 10,
   "id": "f0239b11-c7e0-4916-9c42-33afe3c8555a",
   "metadata": {},
   "outputs": [
    {
     "name": "stdout",
     "output_type": "stream",
     "text": [
      "e7ca62ab6a722b1b18c2bcddccdedc16e157666e  ../data/dyn_kvlist_3dyns.joblib\n"
     ]
    }
   ],
   "source": [
    "import joblib\n",
    "kv_list_path = joblib.dump(kv_list, \"../data/dyn_kvlist_3dyns.joblib\")[0]\n",
    "!sha1sum $kv_list_path"
   ]
  },
  {
   "cell_type": "code",
   "execution_count": 11,
   "id": "e742056d-6721-47da-8ee3-93ba349c95d8",
   "metadata": {},
   "outputs": [
    {
     "data": {
      "text/plain": [
       "['苔', '秩', '琢', '搆', '稿', '宅', '纓', '莧', '泠', '盈']"
      ]
     },
     "execution_count": 11,
     "metadata": {},
     "output_type": "execute_result"
    }
   ],
   "source": [
    "list(set(kv0.index_to_key) & set(kv1.index_to_key) & set(kv2.index_to_key))[:10]"
   ]
  },
  {
   "cell_type": "code",
   "execution_count": 12,
   "id": "6ba3d581-d167-4e40-b660-57807b758cb3",
   "metadata": {},
   "outputs": [
    {
     "data": {
      "text/plain": [
       "[('隔', 0.8219001293182373),\n",
       " ('落', 0.8136487603187561),\n",
       " ('飄', 0.8051883578300476),\n",
       " ('雲', 0.8004015684127808),\n",
       " ('霜', 0.796699047088623),\n",
       " ('斜', 0.768998384475708),\n",
       " ('星', 0.7672511339187622),\n",
       " ('殞', 0.7604832053184509),\n",
       " ('裹', 0.747040867805481),\n",
       " ('奇', 0.7435941100120544)]"
      ]
     },
     "execution_count": 12,
     "metadata": {},
     "output_type": "execute_result"
    }
   ],
   "source": [
    "kv0.most_similar(\"雪\")"
   ]
  },
  {
   "cell_type": "code",
   "execution_count": 13,
   "id": "b36921a3-5ca2-4074-8e67-622c9002f312",
   "metadata": {},
   "outputs": [
    {
     "data": {
      "text/plain": [
       "[('蟲', 0.8492670655250549),\n",
       " ('董', 0.8466299176216125),\n",
       " ('畢', 0.8313943147659302),\n",
       " ('謹', 0.8287528157234192),\n",
       " ('墮', 0.828660786151886),\n",
       " ('暑', 0.8245339393615723),\n",
       " ('翼', 0.8240716457366943),\n",
       " ('藝', 0.8206169009208679),\n",
       " ('暮', 0.8173409700393677),\n",
       " ('羅', 0.816857635974884)]"
      ]
     },
     "execution_count": 13,
     "metadata": {},
     "output_type": "execute_result"
    }
   ],
   "source": [
    "kv1.most_similar(\"雪\")"
   ]
  },
  {
   "cell_type": "code",
   "execution_count": 14,
   "id": "2fb78f90-2230-4a82-9ec5-94816c4af4dd",
   "metadata": {},
   "outputs": [
    {
     "data": {
      "text/plain": [
       "[('霜', 0.718539297580719),\n",
       " ('鸚', 0.6935447454452515),\n",
       " ('揣', 0.670968234539032),\n",
       " ('燭', 0.6566643714904785),\n",
       " ('吹', 0.6470581293106079),\n",
       " ('蘭', 0.6361311078071594),\n",
       " ('聊', 0.6321390271186829),\n",
       " ('賦', 0.6305357813835144),\n",
       " ('誘', 0.6301935911178589),\n",
       " ('翔', 0.6280685067176819)]"
      ]
     },
     "execution_count": 14,
     "metadata": {},
     "output_type": "execute_result"
    }
   ],
   "source": [
    "kv2.most_similar(\"雪\")"
   ]
  },
  {
   "cell_type": "code",
   "execution_count": null,
   "id": "707042f5-8f1d-4d4e-878f-7b980ada6619",
   "metadata": {},
   "outputs": [],
   "source": []
  }
 ],
 "metadata": {
  "kernelspec": {
   "display_name": "Python 3 (ipykernel)",
   "language": "python",
   "name": "python3"
  },
  "language_info": {
   "codemirror_mode": {
    "name": "ipython",
    "version": 3
   },
   "file_extension": ".py",
   "mimetype": "text/x-python",
   "name": "python",
   "nbconvert_exporter": "python",
   "pygments_lexer": "ipython3",
   "version": "3.9.5"
  }
 },
 "nbformat": 4,
 "nbformat_minor": 5
}
