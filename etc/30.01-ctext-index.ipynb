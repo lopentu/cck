{
 "cells": [
  {
   "cell_type": "code",
   "execution_count": 1,
   "metadata": {},
   "outputs": [],
   "source": [
    "import psutil, os\n",
    "import json\n",
    "from pathlib import Path\n",
    "from datetime import datetime\n",
    "from collections import Counter\n",
    "from tqdm.auto import tqdm\n",
    "import pandas as pd\n"
   ]
  },
  {
   "cell_type": "code",
   "execution_count": 2,
   "metadata": {},
   "outputs": [],
   "source": [
    "text_path_list = Path(\"../corpus/dynasty_split/\").glob(\"*.jsonl\")"
   ]
  },
  {
   "cell_type": "code",
   "execution_count": 3,
   "metadata": {},
   "outputs": [],
   "source": [
    "querys = \"\"\"\n",
    "睜,瞪,瞪眼,咪,咪縫,䀹,眨,眨巴,擠咕,瞎,目眩,\n",
    "瞋,盱,瞤,瞚,瞑,矉,盷,眩\n",
    "\"\"\".replace(\"\\n\", \"\").strip().split(\",\")\n",
    "query_targets = [x[0] for x in querys]"
   ]
  },
  {
   "cell_type": "code",
   "execution_count": 4,
   "metadata": {},
   "outputs": [],
   "source": [
    "def build_index(json_objs):\n",
    "  index_dict = {}\n",
    "  for j_idx, jobj in enumerate(tqdm(json_objs)):\n",
    "    for text_idx, text_obj in enumerate(jobj[\"text\"]):\n",
    "      for ch_idx, ch in enumerate(text_obj[\"t\"]):\n",
    "        if ch not in query_targets:\n",
    "          continue\n",
    "        ch_index = index_dict.setdefault(ch, [])\n",
    "        ch_index.append((j_idx, text_idx, \"t\", ch_idx))\n",
    "      for ch_idx, ch in enumerate(text_obj[\"c\"]):\n",
    "        if ch not in query_targets:\n",
    "          continue\n",
    "        ch_index = index_dict.setdefault(ch, [])\n",
    "        ch_index.append((j_idx, text_idx, \"c\", ch_idx))\n",
    "  return index_dict"
   ]
  },
  {
   "cell_type": "code",
   "execution_count": 5,
   "metadata": {},
   "outputs": [],
   "source": [
    "def no_lf(x):\n",
    "  return x.replace(\"\\n\", \" \")\n",
    "\n",
    "def search_character(chs, index_dict, json_objs, n=-1, window=10, offset=0):\n",
    "  kiwcs = []\n",
    "  if len(chs)>1 and n >= 0:\n",
    "    print(\"query more than one character, n and offset only refer to the first character\")\n",
    "  if chs[0] not in index_dict:\n",
    "    pass\n",
    "    # print(\"WARN: character not found in index_dict. Did you specify it in querys?\")\n",
    "  indices = index_dict.get(chs[0], [])\n",
    "  if n < 0:\n",
    "    n = len(indices)\n",
    "  for idx in indices[offset:offset+n]:\n",
    "    (jidx, tidx, tkey, chidx) = idx\n",
    "    jobj = json_objs[jidx]\n",
    "    tobj = jobj[\"text\"][tidx]\n",
    "    text_content = tobj[tkey]\n",
    "    hit_chs = text_content[chidx:chidx+len(chs)]\n",
    "    if hit_chs != chs:\n",
    "      continue\n",
    "    lwin = max(0, chidx-window)\n",
    "    rwin = min(len(text_content), chidx+len(chs)+window+1)\n",
    "    dynFromId = jobj[\"dynFromId\"]\n",
    "    meta = \"{}-{}-{}\".format(jobj[\"dynFrom\"], jobj[\"title\"], tobj[\"t\"])\n",
    "    kiwc_entry = (\n",
    "      no_lf(text_content[lwin:chidx]),\n",
    "      text_content[chidx:chidx+len(chs)],\n",
    "      no_lf(text_content[chidx+len(chs)+1:rwin]))\n",
    "    kiwcs.append((chs, dynFromId, meta, *kiwc_entry))\n",
    "  \n",
    "  return kiwcs"
   ]
  },
  {
   "attachments": {},
   "cell_type": "markdown",
   "metadata": {},
   "source": [
    "## Main Loop"
   ]
  },
  {
   "cell_type": "code",
   "execution_count": 7,
   "metadata": {},
   "outputs": [
    {
     "data": {
      "text/plain": [
       "'20230116083921'"
      ]
     },
     "execution_count": 7,
     "metadata": {},
     "output_type": "execute_result"
    }
   ],
   "source": [
    "timestamp = datetime.now().strftime(\"%Y%m%d%H%M%S\")\n",
    "timestamp"
   ]
  },
  {
   "cell_type": "code",
   "execution_count": 6,
   "metadata": {},
   "outputs": [
    {
     "name": "stdout",
     "output_type": "stream",
     "text": [
      "processing: ../corpus/dynasty_split/宋元.jsonl\n"
     ]
    },
    {
     "data": {
      "application/vnd.jupyter.widget-view+json": {
       "model_id": "f7a76f2de30b4e45930429a62a956784",
       "version_major": 2,
       "version_minor": 0
      },
      "text/plain": [
       "  0%|          | 0/811 [00:00<?, ?it/s]"
      ]
     },
     "metadata": {},
     "output_type": "display_data"
    },
    {
     "name": "stdout",
     "output_type": "stream",
     "text": [
      "RSS: 673.21 MB\n"
     ]
    },
    {
     "data": {
      "application/vnd.jupyter.widget-view+json": {
       "model_id": "298ed8674ac84cd39cfa67ca56c201b8",
       "version_major": 2,
       "version_minor": 0
      },
      "text/plain": [
       "  0%|          | 0/19 [00:00<?, ?it/s]"
      ]
     },
     "metadata": {},
     "output_type": "display_data"
    },
    {
     "name": "stdout",
     "output_type": "stream",
     "text": [
      "processing: ../corpus/dynasty_split/魏晉南北.jsonl\n"
     ]
    },
    {
     "data": {
      "application/vnd.jupyter.widget-view+json": {
       "model_id": "823dd05d8f01426ea9324d672b82cde1",
       "version_major": 2,
       "version_minor": 0
      },
      "text/plain": [
       "  0%|          | 0/79 [00:00<?, ?it/s]"
      ]
     },
     "metadata": {},
     "output_type": "display_data"
    },
    {
     "name": "stdout",
     "output_type": "stream",
     "text": [
      "RSS: 710.07 MB\n"
     ]
    },
    {
     "data": {
      "application/vnd.jupyter.widget-view+json": {
       "model_id": "8d594614fc2d46bba243acae1ecbf9b9",
       "version_major": 2,
       "version_minor": 0
      },
      "text/plain": [
       "  0%|          | 0/19 [00:00<?, ?it/s]"
      ]
     },
     "metadata": {},
     "output_type": "display_data"
    },
    {
     "name": "stdout",
     "output_type": "stream",
     "text": [
      "processing: ../corpus/dynasty_split/tier1.jsonl\n"
     ]
    },
    {
     "data": {
      "application/vnd.jupyter.widget-view+json": {
       "model_id": "17c784ee482340fc9fd2d811ad377ba5",
       "version_major": 2,
       "version_minor": 0
      },
      "text/plain": [
       "  0%|          | 0/120 [00:00<?, ?it/s]"
      ]
     },
     "metadata": {},
     "output_type": "display_data"
    },
    {
     "name": "stdout",
     "output_type": "stream",
     "text": [
      "RSS: 801.05 MB\n"
     ]
    },
    {
     "data": {
      "application/vnd.jupyter.widget-view+json": {
       "model_id": "4edfe0cfe48b4aada9fa6f5cb8682404",
       "version_major": 2,
       "version_minor": 0
      },
      "text/plain": [
       "  0%|          | 0/19 [00:00<?, ?it/s]"
      ]
     },
     "metadata": {},
     "output_type": "display_data"
    },
    {
     "name": "stdout",
     "output_type": "stream",
     "text": [
      "processing: ../corpus/dynasty_split/明.jsonl\n"
     ]
    },
    {
     "data": {
      "application/vnd.jupyter.widget-view+json": {
       "model_id": "a3d645126d4d47c1b48dc10aed684a82",
       "version_major": 2,
       "version_minor": 0
      },
      "text/plain": [
       "  0%|          | 0/430 [00:00<?, ?it/s]"
      ]
     },
     "metadata": {},
     "output_type": "display_data"
    },
    {
     "name": "stdout",
     "output_type": "stream",
     "text": [
      "RSS: 1139.52 MB\n"
     ]
    },
    {
     "data": {
      "application/vnd.jupyter.widget-view+json": {
       "model_id": "785c7a948e78464e9d6c480db27226b4",
       "version_major": 2,
       "version_minor": 0
      },
      "text/plain": [
       "  0%|          | 0/19 [00:00<?, ?it/s]"
      ]
     },
     "metadata": {},
     "output_type": "display_data"
    },
    {
     "name": "stdout",
     "output_type": "stream",
     "text": [
      "processing: ../corpus/dynasty_split/民國.jsonl\n"
     ]
    },
    {
     "data": {
      "application/vnd.jupyter.widget-view+json": {
       "model_id": "f16d52fa85114989869a5f68d8df8966",
       "version_major": 2,
       "version_minor": 0
      },
      "text/plain": [
       "  0%|          | 0/3 [00:00<?, ?it/s]"
      ]
     },
     "metadata": {},
     "output_type": "display_data"
    },
    {
     "name": "stdout",
     "output_type": "stream",
     "text": [
      "RSS: 1153.31 MB\n"
     ]
    },
    {
     "data": {
      "application/vnd.jupyter.widget-view+json": {
       "model_id": "18b38c75d218468cbfd07d2c644fc4c2",
       "version_major": 2,
       "version_minor": 0
      },
      "text/plain": [
       "  0%|          | 0/19 [00:00<?, ?it/s]"
      ]
     },
     "metadata": {},
     "output_type": "display_data"
    },
    {
     "name": "stdout",
     "output_type": "stream",
     "text": [
      "processing: ../corpus/dynasty_split/清.jsonl\n"
     ]
    },
    {
     "data": {
      "application/vnd.jupyter.widget-view+json": {
       "model_id": "884badcfb37248eb8c003bb5140bc99b",
       "version_major": 2,
       "version_minor": 0
      },
      "text/plain": [
       "  0%|          | 0/1281 [00:00<?, ?it/s]"
      ]
     },
     "metadata": {},
     "output_type": "display_data"
    },
    {
     "name": "stdout",
     "output_type": "stream",
     "text": [
      "RSS: 1769.09 MB\n"
     ]
    },
    {
     "data": {
      "application/vnd.jupyter.widget-view+json": {
       "model_id": "1e5a8af47b4147b7a592f613d48381c0",
       "version_major": 2,
       "version_minor": 0
      },
      "text/plain": [
       "  0%|          | 0/19 [00:00<?, ?it/s]"
      ]
     },
     "metadata": {},
     "output_type": "display_data"
    },
    {
     "name": "stdout",
     "output_type": "stream",
     "text": [
      "processing: ../corpus/dynasty_split/漢.jsonl\n"
     ]
    },
    {
     "data": {
      "application/vnd.jupyter.widget-view+json": {
       "model_id": "5d43a4b6e88b405e8d794c3a94be9e82",
       "version_major": 2,
       "version_minor": 0
      },
      "text/plain": [
       "  0%|          | 0/79 [00:00<?, ?it/s]"
      ]
     },
     "metadata": {},
     "output_type": "display_data"
    },
    {
     "name": "stdout",
     "output_type": "stream",
     "text": [
      "RSS: 1754.80 MB\n"
     ]
    },
    {
     "data": {
      "application/vnd.jupyter.widget-view+json": {
       "model_id": "5619978c092c4c409f1487e9e85c3687",
       "version_major": 2,
       "version_minor": 0
      },
      "text/plain": [
       "  0%|          | 0/19 [00:00<?, ?it/s]"
      ]
     },
     "metadata": {},
     "output_type": "display_data"
    },
    {
     "name": "stdout",
     "output_type": "stream",
     "text": [
      "processing: ../corpus/dynasty_split/唐五代十國.jsonl\n"
     ]
    },
    {
     "data": {
      "application/vnd.jupyter.widget-view+json": {
       "model_id": "23ef5a21891b42a48717c60d495ecc87",
       "version_major": 2,
       "version_minor": 0
      },
      "text/plain": [
       "  0%|          | 0/182 [00:00<?, ?it/s]"
      ]
     },
     "metadata": {},
     "output_type": "display_data"
    },
    {
     "name": "stdout",
     "output_type": "stream",
     "text": [
      "RSS: 1743.71 MB\n"
     ]
    },
    {
     "data": {
      "application/vnd.jupyter.widget-view+json": {
       "model_id": "59db6fbdf202433ea3db33f951310d16",
       "version_major": 2,
       "version_minor": 0
      },
      "text/plain": [
       "  0%|          | 0/19 [00:00<?, ?it/s]"
      ]
     },
     "metadata": {},
     "output_type": "display_data"
    },
    {
     "name": "stdout",
     "output_type": "stream",
     "text": [
      "processing: ../corpus/dynasty_split/先秦.jsonl\n"
     ]
    },
    {
     "data": {
      "application/vnd.jupyter.widget-view+json": {
       "model_id": "d85ca99db38e4ba8b887987d178bf5fc",
       "version_major": 2,
       "version_minor": 0
      },
      "text/plain": [
       "  0%|          | 0/41 [00:00<?, ?it/s]"
      ]
     },
     "metadata": {},
     "output_type": "display_data"
    },
    {
     "name": "stdout",
     "output_type": "stream",
     "text": [
      "RSS: 1743.71 MB\n"
     ]
    },
    {
     "data": {
      "application/vnd.jupyter.widget-view+json": {
       "model_id": "32fe1c5467514870ac668e6c4ad8a903",
       "version_major": 2,
       "version_minor": 0
      },
      "text/plain": [
       "  0%|          | 0/19 [00:00<?, ?it/s]"
      ]
     },
     "metadata": {},
     "output_type": "display_data"
    }
   ],
   "source": [
    "for text_path in text_path_list:\n",
    "  print(\"processing: {}\".format(text_path))\n",
    "  # reading text file\n",
    "  fin = open(text_path, \"r\", encoding=\"UTF-8\")\n",
    "\n",
    "  json_objs = []\n",
    "  for ln in fin:\n",
    "    json_data = json.loads(ln)\n",
    "    json_objs.append(json_data)\n",
    "  fin.close()\n",
    "\n",
    "  # building index\n",
    "  index_dict = build_index(json_objs)\n",
    "  proc = psutil.Process(os.getpid())\n",
    "  rss_1 = proc.memory_info().rss / 1024 / 1024\n",
    "  print(\"RSS: {:.2f} MB\".format(rss_1))\n",
    "\n",
    "  # generating kwic\n",
    "  query_kiwcs = []\n",
    "  for query in tqdm(querys):\n",
    "    kiwcs = search_character(query, index_dict, json_objs)\n",
    "    query_kiwcs.extend(kiwcs)\n",
    "\n",
    "  # write to file\n",
    "  query_df = pd.DataFrame(query_kiwcs, columns=[\"query\", \"dynFromId\", \"meta\", \"left\", \"keyword\", \"right\"])\n",
    "  query_df.to_csv(f\"../data/kwic_{Path(text_path).stem}_{timestamp}.csv\", index=False)\n",
    "\n"
   ]
  },
  {
   "cell_type": "code",
   "execution_count": null,
   "metadata": {},
   "outputs": [],
   "source": []
  }
 ],
 "metadata": {
  "kernelspec": {
   "display_name": "base",
   "language": "python",
   "name": "python3"
  },
  "language_info": {
   "codemirror_mode": {
    "name": "ipython",
    "version": 3
   },
   "file_extension": ".py",
   "mimetype": "text/x-python",
   "name": "python",
   "nbconvert_exporter": "python",
   "pygments_lexer": "ipython3",
   "version": "3.9.5"
  },
  "orig_nbformat": 4,
  "vscode": {
   "interpreter": {
    "hash": "0b2c2a14eda9f23296c33148fe3ba13021aeaae891a14659c66f3ff82393d7a2"
   }
  }
 },
 "nbformat": 4,
 "nbformat_minor": 2
}
