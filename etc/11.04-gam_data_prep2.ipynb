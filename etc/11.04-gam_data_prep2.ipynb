{
 "cells": [
  {
   "cell_type": "code",
   "execution_count": 1,
   "metadata": {},
   "outputs": [
    {
     "name": "stdout",
     "output_type": "stream",
     "text": [
      "Mapping author time ...\n",
      "File read: ../data/author_time/wiki_author_time.json\n"
     ]
    }
   ],
   "source": [
    "import sys, os\n",
    "from pathlib import Path\n",
    "if \"../src\" not in sys.path:\n",
    "    sys.path.append(\"../src\")\n",
    "\n",
    "from dietcoke import Vocabulary"
   ]
  },
  {
   "cell_type": "code",
   "execution_count": 2,
   "metadata": {},
   "outputs": [],
   "source": [
    "# 把清朝分批產生的 sparse matrix stack起來\n",
    "# from scipy import sparse\n",
    "# from tqdm.auto import tqdm\n",
    "\n",
    "# fps = sorted([fp for fp in Path('../data/chunked_freq').glob('*清*.npz')])\n",
    "# mats = [sparse.load_npz(fp) for fp in tqdm(fps)]\n",
    "# mat = sparse.hstack(mats)\n",
    "# sparse.save_npz('chunked_freq_清.npz', mat)"
   ]
  },
  {
   "cell_type": "code",
   "execution_count": 3,
   "metadata": {},
   "outputs": [],
   "source": [
    "# 合併清朝的 column names\n",
    "# import json\n",
    "# import re\n",
    "\n",
    "# with open('../data/chunked_freq/text_slice_lookup.json', 'r', encoding='utf-8') as f:\n",
    "#     text_slice_lookup = json.load(f)\n",
    "\n",
    "# lst = [text_slice_lookup[k] for k in sorted(list(text_slice_lookup.keys())) if '清' in k]\n",
    "# lst = [n for m in lst for n in m]\n",
    "\n",
    "# # mat.shape[1] == len(lst)\n",
    "# text_slice_lookup['chunked_freq_清'] = lst\n",
    "# print(text_slice_lookup.keys())\n",
    "\n",
    "# with open('text_slice_lookup.json', 'w', encoding='utf-8') as f:\n",
    "#     json.dump(text_slice_lookup, f)"
   ]
  },
  {
   "cell_type": "code",
   "execution_count": 2,
   "metadata": {},
   "outputs": [],
   "source": [
    "import json\n",
    "from scipy import sparse\n",
    "from tqdm.auto import tqdm\n",
    "from dietcoke import dynaspan_lst, corpus_lst, Author\n",
    "import numpy as np\n",
    "import pandas as pd"
   ]
  },
  {
   "cell_type": "code",
   "execution_count": 3,
   "metadata": {},
   "outputs": [
    {
     "name": "stderr",
     "output_type": "stream",
     "text": [
      "  0%|          | 0/8 [00:00<?, ?it/s]"
     ]
    },
    {
     "name": "stdout",
     "output_type": "stream",
     "text": [
      "(54227, 12)\n"
     ]
    },
    {
     "name": "stderr",
     "output_type": "stream",
     "text": [
      " 25%|██▌       | 2/8 [00:02<00:06,  1.13s/it]"
     ]
    },
    {
     "name": "stdout",
     "output_type": "stream",
     "text": [
      "(54227, 675)\n"
     ]
    },
    {
     "name": "stderr",
     "output_type": "stream",
     "text": [
      " 38%|███▊      | 3/8 [00:05<00:09,  1.85s/it]"
     ]
    },
    {
     "name": "stdout",
     "output_type": "stream",
     "text": [
      "(54227, 1181)\n"
     ]
    },
    {
     "name": "stderr",
     "output_type": "stream",
     "text": [
      " 50%|█████     | 4/8 [00:11<00:13,  3.43s/it]"
     ]
    },
    {
     "name": "stdout",
     "output_type": "stream",
     "text": [
      "(54227, 2226)\n",
      "(54227, 8443)\n"
     ]
    },
    {
     "name": "stderr",
     "output_type": "stream",
     "text": [
      " 62%|██████▎   | 5/8 [00:51<00:48, 16.17s/it]"
     ]
    },
    {
     "name": "stdout",
     "output_type": "stream",
     "text": [
      "(54227, 7489)\n"
     ]
    },
    {
     "name": "stderr",
     "output_type": "stream",
     "text": [
      " 75%|███████▌  | 6/8 [01:25<00:44, 22.19s/it]"
     ]
    },
    {
     "name": "stdout",
     "output_type": "stream",
     "text": [
      "(54227, 25778)\n"
     ]
    },
    {
     "name": "stderr",
     "output_type": "stream",
     "text": [
      " 88%|████████▊ | 7/8 [05:02<01:24, 84.67s/it]"
     ]
    },
    {
     "name": "stdout",
     "output_type": "stream",
     "text": [
      "(54227, 256)\n"
     ]
    },
    {
     "name": "stderr",
     "output_type": "stream",
     "text": [
      "100%|██████████| 8/8 [05:05<00:00, 38.13s/it]"
     ]
    },
    {
     "name": "stdout",
     "output_type": "stream",
     "text": [
      "(54227, 46060)\n"
     ]
    },
    {
     "name": "stderr",
     "output_type": "stream",
     "text": [
      "\n"
     ]
    }
   ],
   "source": [
    "# 抓出 dispersion 最高和最低的25個 characters\n",
    "FOLDER = Path('../data/chunked_freq')\n",
    "\n",
    "with open(FOLDER / 'text_slice_lookup.json', 'r', encoding='utf-8') as f:\n",
    "    text_slice_lookup = json.load(f)\n",
    "\n",
    "profile_df = pd.read_csv('../data/author_time/author_profile.csv').dropna(subset=['mid_year'])\n",
    "midyear_lookup = dict(zip(profile_df['urn'], profile_df['mid_year']))\n",
    "\n",
    "mat = None\n",
    "cul_k, cul_k_lst = 0, []\n",
    "for dynaspan in tqdm(dynaspan_lst):\n",
    "    dyna_mat = sparse.load_npz(f'../data/chunked_freq/chunked_freq_{dynaspan}.npz')\n",
    "    cols = [i for i, n in enumerate(text_slice_lookup[f'chunked_freq_{dynaspan}']) if n.split('_')[0] in midyear_lookup.keys()]\n",
    "    \n",
    "    dyna_mat = dyna_mat.todense()[:,cols]\n",
    "    dyna_mat = sparse.csr_matrix(dyna_mat)\n",
    "    print(dyna_mat.shape)\n",
    "    cul_k += dyna_mat.shape[1]\n",
    "    cul_k_lst.append(cul_k)\n",
    "\n",
    "    if mat is None:\n",
    "        mat = dyna_mat\n",
    "    else:\n",
    "        mat = sparse.hstack([mat, dyna_mat])\n",
    "\n",
    "print(mat.shape)"
   ]
  },
  {
   "cell_type": "code",
   "execution_count": 4,
   "metadata": {},
   "outputs": [
    {
     "data": {
      "image/png": "[encoded data removed]",
      "text/plain": [
       "<Figure size 432x288 with 1 Axes>"
      ]
     },
     "metadata": {
      "needs_background": "light"
     },
     "output_type": "display_data"
    }
   ],
   "source": [
    "import matplotlib.pyplot as plt\n",
    "\n",
    "plt.spy(mat, aspect='auto', markersize=1)\n",
    "for cul_k in cul_k_lst:\n",
    "    plt.axvline(x=cul_k, color=\"black\")"
   ]
  },
  {
   "cell_type": "code",
   "execution_count": 5,
   "metadata": {},
   "outputs": [
    {
     "data": {
      "text/plain": [
       "[12, 687, 1868, 4094, 12537, 20026, 45804, 46060]"
      ]
     },
     "execution_count": 5,
     "metadata": {},
     "output_type": "execute_result"
    }
   ],
   "source": [
    "cul_k_lst"
   ]
  },
  {
   "cell_type": "code",
   "execution_count": 7,
   "metadata": {},
   "outputs": [
    {
     "name": "stdout",
     "output_type": "stream",
     "text": [
      "(54227, 1)\n"
     ]
    },
    {
     "data": {
      "text/plain": [
       "array(['討', '庫', '荊', '聚', '避', '男', '戒', '旗', '藝', '巡', '麟', '班', '盤',\n",
       "       '覺', '嵗', '湯', '隋', '階', '境', '辨', '委', '徵', '略', '族', '米', '屋',\n",
       "       '熙', '溫', '軸', '慚', '惜', '獸', '徑', '駕', '祝', '靖', '提', '宇', '尹',\n",
       "       '鑒', '絶', '歷', '敵', '并', '鳳', '蒼', '霜', '逆', '波', '助'],\n",
       "      dtype=object)"
      ]
     },
     "execution_count": 7,
     "metadata": {},
     "output_type": "execute_result"
    }
   ],
   "source": [
    "freq_mat = mat.sum(axis=1)\n",
    "print(freq_mat.shape)\n",
    "\n",
    "freq_df = pd.DataFrame(freq_mat, columns=['freq']) \\\n",
    "    .sort_values('freq', ascending=False) \\\n",
    "    .reset_index().rename({'index': 'char_id'}, axis=1)\n",
    "\n",
    "vocab = Vocabulary('../data/dictionary.txt')\n",
    "freq_df['char'] = [vocab.decode(char_id) for char_id in freq_df['char_id']]\n",
    "freq_df = freq_df[['char_id', 'char', 'freq']]\n",
    "freq_df = freq_df[freq_df['char'] != '〇']\n",
    "\n",
    "target_chars = freq_df.iloc[1000:6000,]['char'].values\n",
    "target_chars[:50]"
   ]
  },
  {
   "cell_type": "code",
   "execution_count": 8,
   "metadata": {},
   "outputs": [
    {
     "name": "stdout",
     "output_type": "stream",
     "text": [
      "(54227, 46060) (54227, 46060)\n",
      "True\n",
      "(54227, 1)\n"
     ]
    }
   ],
   "source": [
    "indices = mat.nonzero()\n",
    "data = np.ones(len(indices[0]))\n",
    "binary_mat = sparse.csr_matrix((data, (indices[0], indices[1])), shape=mat.shape, dtype=int)\n",
    "\n",
    "print(binary_mat.shape, mat.shape)\n",
    "print(binary_mat.shape == mat.shape)\n",
    "\n",
    "k_mat = binary_mat.sum(axis=1)\n",
    "print(k_mat.shape)"
   ]
  },
  {
   "cell_type": "code",
   "execution_count": 9,
   "metadata": {},
   "outputs": [
    {
     "data": {
      "text/html": [
       "<div>\n",
       "<style scoped>\n",
       "    .dataframe tbody tr th:only-of-type {\n",
       "        vertical-align: middle;\n",
       "    }\n",
       "\n",
       "    .dataframe tbody tr th {\n",
       "        vertical-align: top;\n",
       "    }\n",
       "\n",
       "    .dataframe thead th {\n",
       "        text-align: right;\n",
       "    }\n",
       "</style>\n",
       "<table border=\"1\" class=\"dataframe\">\n",
       "  <thead>\n",
       "    <tr style=\"text-align: right;\">\n",
       "      <th></th>\n",
       "      <th>char_id</th>\n",
       "      <th>d</th>\n",
       "      <th>char</th>\n",
       "    </tr>\n",
       "  </thead>\n",
       "  <tbody>\n",
       "    <tr>\n",
       "      <th>655</th>\n",
       "      <td>1013</td>\n",
       "      <td>33051</td>\n",
       "      <td>避</td>\n",
       "    </tr>\n",
       "    <tr>\n",
       "      <th>663</th>\n",
       "      <td>996</td>\n",
       "      <td>32884</td>\n",
       "      <td>聚</td>\n",
       "    </tr>\n",
       "    <tr>\n",
       "      <th>723</th>\n",
       "      <td>1054</td>\n",
       "      <td>31632</td>\n",
       "      <td>助</td>\n",
       "    </tr>\n",
       "    <tr>\n",
       "      <th>730</th>\n",
       "      <td>1064</td>\n",
       "      <td>31483</td>\n",
       "      <td>縱</td>\n",
       "    </tr>\n",
       "    <tr>\n",
       "      <th>744</th>\n",
       "      <td>1094</td>\n",
       "      <td>31120</td>\n",
       "      <td>殊</td>\n",
       "    </tr>\n",
       "    <tr>\n",
       "      <th>...</th>\n",
       "      <td>...</td>\n",
       "      <td>...</td>\n",
       "      <td>...</td>\n",
       "    </tr>\n",
       "    <tr>\n",
       "      <th>8939</th>\n",
       "      <td>5342</td>\n",
       "      <td>120</td>\n",
       "      <td>啊</td>\n",
       "    </tr>\n",
       "    <tr>\n",
       "      <th>9575</th>\n",
       "      <td>3668</td>\n",
       "      <td>86</td>\n",
       "      <td>捌</td>\n",
       "    </tr>\n",
       "    <tr>\n",
       "      <th>10501</th>\n",
       "      <td>6317</td>\n",
       "      <td>56</td>\n",
       "      <td>啥</td>\n",
       "    </tr>\n",
       "    <tr>\n",
       "      <th>11235</th>\n",
       "      <td>4194</td>\n",
       "      <td>42</td>\n",
       "      <td>㭍</td>\n",
       "    </tr>\n",
       "    <tr>\n",
       "      <th>11540</th>\n",
       "      <td>4897</td>\n",
       "      <td>37</td>\n",
       "      <td>叁</td>\n",
       "    </tr>\n",
       "  </tbody>\n",
       "</table>\n",
       "<p>5000 rows × 3 columns</p>\n",
       "</div>"
      ],
      "text/plain": [
       "       char_id      d char\n",
       "655       1013  33051    避\n",
       "663        996  32884    聚\n",
       "723       1054  31632    助\n",
       "730       1064  31483    縱\n",
       "744       1094  31120    殊\n",
       "...        ...    ...  ...\n",
       "8939      5342    120    啊\n",
       "9575      3668     86    捌\n",
       "10501     6317     56    啥\n",
       "11235     4194     42    㭍\n",
       "11540     4897     37    叁\n",
       "\n",
       "[5000 rows x 3 columns]"
      ]
     },
     "execution_count": 9,
     "metadata": {},
     "output_type": "execute_result"
    }
   ],
   "source": [
    "bi_df = pd.DataFrame(k_mat, columns=['d']).sort_values('d', ascending=False) \\\n",
    "        .reset_index().rename({'index': 'char_id'}, axis=1)\n",
    "bi_df['char'] = [vocab.decode(char_id) for char_id in bi_df['char_id']]\n",
    "bi_df = bi_df[bi_df['char'].isin(target_chars)].sort_values('d', ascending=False)\n",
    "bi_df"
   ]
  },
  {
   "cell_type": "code",
   "execution_count": 10,
   "metadata": {},
   "outputs": [
    {
     "name": "stdout",
     "output_type": "stream",
     "text": [
      "Overdispersed characters: ['避', '聚', '助', '縱', '殊', '假', '戒', '竟', '辨', '委', '屈', '負', '違', '仰', '庫', '畏', '屢', '惜', '逐', '符', '側', '覺', '貫', '稽', '稍']\n",
      "Underdispersed characters: ['瑭', '尿', '酳', '皝', '嚐', '緞', '痘', '礼', '楽', '与', '鄩', '爹', '獘', '𣗳', '𧰼', '𫠦', '淂', '縀', '媽', '𡻕', '啊', '捌', '啥', '㭍', '叁']\n"
     ]
    }
   ],
   "source": [
    "overdispersed_chars = bi_df['char'].to_list()[:25]\n",
    "underdispersed_chars = bi_df['char'].to_list()[-25:]\n",
    "\n",
    "print('Overdispersed characters:', overdispersed_chars)\n",
    "print('Underdispersed characters:', underdispersed_chars)\n",
    "\n",
    "with open('overdispersed_chars.txt', 'w', encoding='utf-8') as f:\n",
    "    f.write('\\n'.join(overdispersed_chars))\n",
    "\n",
    "with open('underdispersed_chars.txt', 'w', encoding='utf-8') as f:\n",
    "    f.write('\\n'.join(underdispersed_chars))"
   ]
  },
  {
   "cell_type": "code",
   "execution_count": 11,
   "metadata": {},
   "outputs": [],
   "source": [
    "# from scipy.sparse.linalg import svds, eigs\n",
    "# from scipy import sparse\n",
    "\n",
    "# mat = dyna_mat.astype(np.float64)\n",
    "# u, s, vt = svds(mat, k=2)"
   ]
  }
 ],
 "metadata": {
  "interpreter": {
   "hash": "31002e1045040571bb605909eb291001a97d9c0ee2ddb09dce3fd55b3a637b52"
  },
  "kernelspec": {
   "display_name": "Python 3.8.6 64-bit ('.venv': venv)",
   "name": "python3"
  },
  "language_info": {
   "codemirror_mode": {
    "name": "ipython",
    "version": 3
   },
   "file_extension": ".py",
   "mimetype": "text/x-python",
   "name": "python",
   "nbconvert_exporter": "python",
   "pygments_lexer": "ipython3",
   "version": "3.8.6"
  },
  "orig_nbformat": 4
 },
 "nbformat": 4,
 "nbformat_minor": 2
}
