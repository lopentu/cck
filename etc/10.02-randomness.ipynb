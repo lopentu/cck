{
 "cells": [
  {
   "cell_type": "code",
   "execution_count": 1,
   "metadata": {},
   "outputs": [],
   "source": [
    "%load_ext autoreload\n",
    "%autoreload 2"
   ]
  },
  {
   "cell_type": "code",
   "execution_count": 2,
   "metadata": {},
   "outputs": [],
   "source": [
    "import sys\n",
    "from pathlib import Path\n",
    "if \"../src\" not in sys.path:\n",
    "    sys.path.append(\"../src\")"
   ]
  },
  {
   "cell_type": "code",
   "execution_count": 73,
   "metadata": {},
   "outputs": [],
   "source": [
    "import matplotlib.pyplot as plt\n",
    "from dietcoke import Corpus, Text\n",
    "from itertools import islice, chain, groupby\n",
    "\n",
    "corpus = Corpus('tier1')\n",
    "corpus.read_corpus()"
   ]
  },
  {
   "cell_type": "code",
   "execution_count": 96,
   "metadata": {},
   "outputs": [],
   "source": [
    "text0 = \"\"\n",
    "dyns = []\n",
    "text_corpus = [Text(corpus.corpus[i]) \n",
    "               for i in range(0, len(corpus.corpus), 10)]\n",
    "text_corpus = sorted(text_corpus, key=lambda x: int(x.obj.get(\"dynFromId\", -1)))\n",
    "for text_obj in text_corpus:    \n",
    "    text_x = \"\".join(text_obj.text)    \n",
    "    dyns.append((len(text0), \n",
    "                 text_obj.obj.get(\"dynFrom\", \"\"), \n",
    "                 text_obj.obj.get(\"title\", \"\")))\n",
    "    text0 += text_x"
   ]
  },
  {
   "cell_type": "code",
   "execution_count": 97,
   "metadata": {},
   "outputs": [
    {
     "data": {
      "text/plain": [
       "[(0, 'Warring States', '戰國策'),\n",
       " (121743, 'Warring States', '韓非子'),\n",
       " (227974, 'Warring States', '竹書紀年'),\n",
       " (237102, 'Western Han', '淮南子'),\n",
       " (367841, 'Western Han', '春秋穀梁傳'),\n",
       " (408670, 'Eastern Han', '釋名'),\n",
       " (430094, 'Eastern Han', '東觀漢記'),\n",
       " (508610, 'Eastern Han', '吳越春秋'),\n",
       " (547736, 'Eastern Han', '蔡中郎集'),\n",
       " (606101, 'Eastern Han', '文子'),\n",
       " (645306, 'Northern and Southern', '金樓子'),\n",
       " (692479, 'Northern Song', '太平廣記')]"
      ]
     },
     "execution_count": 97,
     "metadata": {},
     "output_type": "execute_result"
    }
   ],
   "source": [
    "dyns"
   ]
  },
  {
   "cell_type": "code",
   "execution_count": 98,
   "metadata": {},
   "outputs": [],
   "source": [
    "dyn_splits = [(list(grp)[0][0], k) for k, grp in groupby(dyns, key=lambda x: x[1])]"
   ]
  },
  {
   "cell_type": "code",
   "execution_count": 99,
   "metadata": {},
   "outputs": [
    {
     "data": {
      "text/plain": [
       "[(0, 'Warring States'),\n",
       " (237102, 'Western Han'),\n",
       " (408670, 'Eastern Han'),\n",
       " (645306, 'Northern and Southern'),\n",
       " (692479, 'Northern Song')]"
      ]
     },
     "execution_count": 99,
     "metadata": {},
     "output_type": "execute_result"
    }
   ],
   "source": [
    "dyn_splits"
   ]
  },
  {
   "cell_type": "code",
   "execution_count": 100,
   "metadata": {},
   "outputs": [
    {
     "data": {
      "text/plain": [
       "2268668"
      ]
     },
     "execution_count": 100,
     "metadata": {},
     "output_type": "execute_result"
    }
   ],
   "source": [
    "len(text0)"
   ]
  },
  {
   "cell_type": "code",
   "execution_count": 101,
   "metadata": {},
   "outputs": [],
   "source": [
    "from itertools import islice\n",
    "def batch(iterable, n_batch, drop_last=False):\n",
    "    it = iter(iterable)\n",
    "    for i, x in enumerate(iter(lambda: list(islice(it, n_batch)), [])):\n",
    "        if drop_last and len(x) != n_batch:\n",
    "            break\n",
    "        yield i, x"
   ]
  },
  {
   "cell_type": "code",
   "execution_count": 148,
   "metadata": {},
   "outputs": [
    {
     "data": {
      "text/plain": [
       "3"
      ]
     },
     "execution_count": 148,
     "metadata": {},
     "output_type": "execute_result"
    }
   ],
   "source": [
    "\"abcabc\".index(\"a\", 2)"
   ]
  },
  {
   "cell_type": "code",
   "execution_count": 149,
   "metadata": {},
   "outputs": [],
   "source": [
    "def get_occurences(text, probe):\n",
    "    occs = []\n",
    "    offset = -1\n",
    "    while True:\n",
    "        try:\n",
    "            offset = text.index(probe, offset+1)\n",
    "            occs.append(offset)\n",
    "        except ValueError:\n",
    "            break\n",
    "    return occs"
   ]
  },
  {
   "cell_type": "code",
   "execution_count": 151,
   "metadata": {},
   "outputs": [],
   "source": [
    "def getV(text):\n",
    "    return len(set(text))\n",
    "\n",
    "def get_chunked_V(text, prevV=set()):\n",
    "    Vset = set() | prevV\n",
    "    xs = []\n",
    "    ys = []\n",
    "    N_CHUNK = 5000\n",
    "    for i, chunk in batch(text, N_CHUNK):\n",
    "        xs.append(i*N_CHUNK)\n",
    "        Vset |= set(chunk)\n",
    "        ys.append(len(Vset))\n",
    "    return (xs, ys, Vset)\n",
    "\n",
    "def get_cond_chunked_V(text, cond, prevV=set()):\n",
    "    Vset = set() | prevV\n",
    "    xs = []\n",
    "    ys = []\n",
    "    N_CHUNK = 5000\n",
    "    for i, chunk in batch(text, N_CHUNK):\n",
    "        xs.append(i*N_CHUNK)\n",
    "        if cond in chunk:\n",
    "            cond_set = set()\n",
    "            for offset in get_occurences(chunk, cond):\n",
    "                if offset+1 >= len(chunk): continue\n",
    "                cond_set.add(chunk[offset+1])\n",
    "            Vset |= set(cond_set)\n",
    "        else:\n",
    "            pass\n",
    "        ys.append(len(Vset))\n",
    "    return (xs, ys, Vset)"
   ]
  },
  {
   "cell_type": "code",
   "execution_count": 103,
   "metadata": {},
   "outputs": [],
   "source": [
    "import random\n",
    "from tqdm.auto import tqdm"
   ]
  },
  {
   "cell_type": "markdown",
   "metadata": {},
   "source": [
    "## Overall"
   ]
  },
  {
   "cell_type": "code",
   "execution_count": 133,
   "metadata": {},
   "outputs": [
    {
     "data": {
      "application/vnd.jupyter.widget-view+json": {
       "model_id": "35cc0541d3144793b5dcd7046605be5f",
       "version_major": 2,
       "version_minor": 0
      },
      "text/plain": [
       "HBox(children=(FloatProgress(value=0.0, max=2.0), HTML(value='')))"
      ]
     },
     "metadata": {},
     "output_type": "display_data"
    },
    {
     "name": "stdout",
     "output_type": "stream",
     "text": [
      "\n"
     ]
    },
    {
     "data": {
      "text/plain": [
       "[<matplotlib.lines.Line2D at 0x1c882b98370>]"
      ]
     },
     "execution_count": 133,
     "metadata": {},
     "output_type": "execute_result"
    },
    {
     "data": {
      "image/png": "[encoded data removed]",
      "text/plain": [
       "<Figure size 432x288 with 1 Axes>"
      ]
     },
     "metadata": {
      "needs_background": "light"
     },
     "output_type": "display_data"
    }
   ],
   "source": [
    "import numpy as np\n",
    "for x, d in dyn_splits:\n",
    "    plt.axvline(x, linestyle=\"solid\", color=\"#AAA\")\n",
    "for x, d, _ in dyns:\n",
    "    plt.axvline(x, linestyle=\"dashed\", color=\"#AAA\")\n",
    "\n",
    "trend_x, trend_y, _ = get_chunked_V(text0)\n",
    "plt.plot(trend_x, trend_y)\n",
    "xr, yr = [], []\n",
    "for i in tqdm(range(2)):\n",
    "    text_x = list(text0)\n",
    "    random.shuffle(text_x)\n",
    "    xs_i, ys_i, _ = get_chunked_V(text_x)\n",
    "    xr.append(xs_i)\n",
    "    yr.append(ys_i)\n",
    "xr = np.array(xr[0])\n",
    "yr = np.array(yr).mean(0)\n",
    "plt.plot(xr, yr, color=\"olive\")"
   ]
  },
  {
   "cell_type": "code",
   "execution_count": 113,
   "metadata": {},
   "outputs": [
    {
     "name": "stdout",
     "output_type": "stream",
     "text": [
      "0 237102\n",
      "237102 408670\n",
      "408670 645306\n",
      "645306 692479\n",
      "692479 2268668\n"
     ]
    }
   ],
   "source": [
    "breaks = [x[0] for x in dyn_splits] + [len(text0)]\n",
    "for s, e in zip(breaks, breaks[1:]):\n",
    "    print(s,e)"
   ]
  },
  {
   "cell_type": "code",
   "execution_count": 129,
   "metadata": {},
   "outputs": [
    {
     "data": {
      "application/vnd.jupyter.widget-view+json": {
       "model_id": "814e885e8a5946e3bc87229b8b74a49b",
       "version_major": 2,
       "version_minor": 0
      },
      "text/plain": [
       "HBox(children=(FloatProgress(value=0.0, max=1.0), HTML(value='')))"
      ]
     },
     "metadata": {},
     "output_type": "display_data"
    },
    {
     "name": "stdout",
     "output_type": "stream",
     "text": [
      "\n"
     ]
    }
   ],
   "source": [
    "xs, ys = [], []\n",
    "for i in tqdm(range(1)):    \n",
    "    breaks = [x[0] for x in dyn_splits] + [len(text0)]\n",
    "    xs_i, ys_i = [], []\n",
    "    prevV = set()\n",
    "    for s, e in zip(breaks, breaks[1:]):\n",
    "        text_x = list(text0[s:e])\n",
    "        random.shuffle(text_x)\n",
    "        bx, by, prevV = get_chunked_V(text_x, prevV)\n",
    "        bx = [x+s for x in bx]\n",
    "        xs_i.extend(bx)\n",
    "        ys_i.extend(by)\n",
    "    xs.append(xs_i)\n",
    "    ys.append(ys_i)\n",
    "xs = np.array(xs[0])\n",
    "ys = np.array(ys).mean(0)"
   ]
  },
  {
   "cell_type": "code",
   "execution_count": 134,
   "metadata": {},
   "outputs": [
    {
     "data": {
      "text/plain": [
       "[<matplotlib.lines.Line2D at 0x1c8abb64940>]"
      ]
     },
     "execution_count": 134,
     "metadata": {},
     "output_type": "execute_result"
    },
    {
     "data": {
      "image/png": "[encoded data removed]",
      "text/plain": [
       "<Figure size 432x288 with 1 Axes>"
      ]
     },
     "metadata": {
      "needs_background": "light"
     },
     "output_type": "display_data"
    }
   ],
   "source": [
    "for x, d in dyn_splits:\n",
    "    plt.axvline(x, linestyle=\"solid\", color=\"#AAA\")\n",
    "for x, d, _ in dyns:\n",
    "    pass\n",
    "    #plt.axvline(x, linestyle=\"dashed\", color=\"#AAA\")\n",
    "# plt.plot(trend_x, trend_y, color=\"#9AF\")\n",
    "plt.plot(xr, yr, color=\"olive\")\n",
    "plt.plot(xs, ys, color=\"darkgreen\")"
   ]
  },
  {
   "cell_type": "markdown",
   "metadata": {},
   "source": [
    "## Conditional"
   ]
  },
  {
   "cell_type": "code",
   "execution_count": 164,
   "metadata": {},
   "outputs": [
    {
     "data": {
      "application/vnd.jupyter.widget-view+json": {
       "model_id": "e60bec331970487b89cf5364995c329a",
       "version_major": 2,
       "version_minor": 0
      },
      "text/plain": [
       "HBox(children=(FloatProgress(value=0.0, max=2.0), HTML(value='')))"
      ]
     },
     "metadata": {},
     "output_type": "display_data"
    },
    {
     "name": "stdout",
     "output_type": "stream",
     "text": [
      "\n"
     ]
    },
    {
     "data": {
      "application/vnd.jupyter.widget-view+json": {
       "model_id": "958b390c0c1445d18155222fc81016a0",
       "version_major": 2,
       "version_minor": 0
      },
      "text/plain": [
       "HBox(children=(FloatProgress(value=0.0, max=2.0), HTML(value='')))"
      ]
     },
     "metadata": {},
     "output_type": "display_data"
    },
    {
     "name": "stdout",
     "output_type": "stream",
     "text": [
      "\n"
     ]
    },
    {
     "data": {
      "application/vnd.jupyter.widget-view+json": {
       "model_id": "8bd2f26309f14b3c86c3b98989fdc605",
       "version_major": 2,
       "version_minor": 0
      },
      "text/plain": [
       "HBox(children=(FloatProgress(value=0.0, max=2.0), HTML(value='')))"
      ]
     },
     "metadata": {},
     "output_type": "display_data"
    },
    {
     "name": "stdout",
     "output_type": "stream",
     "text": [
      "\n"
     ]
    },
    {
     "data": {
      "text/plain": [
       "[<matplotlib.lines.Line2D at 0x1c8abf2d370>]"
      ]
     },
     "execution_count": 164,
     "metadata": {},
     "output_type": "execute_result"
    },
    {
     "data": {
      "image/png": "[encoded data removed]",
      "text/plain": [
       "<Figure size 432x288 with 1 Axes>"
      ]
     },
     "metadata": {
      "needs_background": "light"
     },
     "output_type": "display_data"
    }
   ],
   "source": [
    "import numpy as np\n",
    "for x, d in dyn_splits:\n",
    "    plt.axvline(x, linestyle=\"solid\", color=\"#AAA\")\n",
    "for x, d, _ in dyns:\n",
    "    plt.axvline(x, linestyle=\"dashed\", color=\"#AAA\")\n",
    "\n",
    "xs_da, ys_da, _ = get_cond_chunked_V(text0, \"大\")\n",
    "plt.plot(xs_da, ys_da, label=\"Da\", color=\"red\")\n",
    "\n",
    "xs_zhi, ys_zhi, _ = get_cond_chunked_V(text0, \"之\")\n",
    "plt.plot(xs_zhi, ys_zhi, label=\"Zhi\", color=\"blue\")\n",
    "\n",
    "# Random permutation of conditional V - \"大\"\n",
    "xr, yr = [], []\n",
    "for i in tqdm(range(2)):\n",
    "    text_x = list(text0)\n",
    "    random.shuffle(text_x)\n",
    "    xs_i, ys_i, _ = get_cond_chunked_V(text_x, \"大\")\n",
    "    xr.append(xs_i)\n",
    "    yr.append(ys_i)\n",
    "xr_da = np.array(xr[0])\n",
    "yr_da = np.array(yr).mean(0)\n",
    "plt.plot(xr_da, yr_da, color=\"#FAA\")\n",
    "\n",
    "# Random permutation of conditional V - \"之\"\n",
    "xr, yr = [], []\n",
    "for i in tqdm(range(2)):\n",
    "    text_x = list(text0)\n",
    "    random.shuffle(text_x)\n",
    "    xs_i, ys_i, _ = get_cond_chunked_V(text_x, \"之\")\n",
    "    xr.append(xs_i)\n",
    "    yr.append(ys_i)\n",
    "xr_zhi = np.array(xr[0])\n",
    "yr_zhi = np.array(yr).mean(0)\n",
    "plt.plot(xr_zhi, yr_zhi, color=\"#AAF\")\n",
    "\n",
    "# Random permutation of V\n",
    "xr, yr = [], []\n",
    "for i in tqdm(range(2)):\n",
    "    text_x = list(text0)\n",
    "    random.shuffle(text_x)\n",
    "    xs_i, ys_i, _ = get_chunked_V(text_x)\n",
    "    xr.append(xs_i)\n",
    "    yr.append(ys_i)\n",
    "xr = np.array(xr[0])\n",
    "yr = np.array(yr).mean(0)\n",
    "plt.plot(xr, yr, color=\"olive\")"
   ]
  },
  {
   "cell_type": "code",
   "execution_count": 171,
   "metadata": {},
   "outputs": [
    {
     "data": {
      "text/plain": [
       "[<matplotlib.lines.Line2D at 0x1c8a7661fd0>]"
      ]
     },
     "execution_count": 171,
     "metadata": {},
     "output_type": "execute_result"
    },
    {
     "data": {
      "image/png": "[encoded data removed]",
      "text/plain": [
       "<Figure size 432x288 with 1 Axes>"
      ]
     },
     "metadata": {
      "needs_background": "light"
     },
     "output_type": "display_data"
    }
   ],
   "source": [
    "for x, d in dyn_splits:\n",
    "    plt.axvline(x, linestyle=\"solid\", color=\"#AAA\")\n",
    "plt.plot(xs_da, (ys_da - yr_da)/yr_da, color=\"red\")\n",
    "plt.plot(xs_zhi, (ys_zhi - yr_zhi)/yr_zhi, color=\"blue\")"
   ]
  },
  {
   "cell_type": "code",
   "execution_count": null,
   "metadata": {},
   "outputs": [],
   "source": []
  }
 ],
 "metadata": {
  "kernelspec": {
   "display_name": "Python 3",
   "language": "python",
   "name": "python3"
  },
  "language_info": {
   "codemirror_mode": {
    "name": "ipython",
    "version": 3
   },
   "file_extension": ".py",
   "mimetype": "text/x-python",
   "name": "python",
   "nbconvert_exporter": "python",
   "pygments_lexer": "ipython3",
   "version": "3.8.2"
  }
 },
 "nbformat": 4,
 "nbformat_minor": 4
}
