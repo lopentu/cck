{
 "cells": [
  {
   "cell_type": "code",
   "execution_count": 1,
   "metadata": {},
   "outputs": [],
   "source": [
    "import sys, os\n",
    "from pathlib import Path\n",
    "if \"../src\" not in sys.path:\n",
    "    sys.path.append(\"../src\")\n",
    "\n",
    "import re\n",
    "import pandas as pd\n",
    "from collections import defaultdict\n",
    "from dietcoke.get_author import PAT_ANONYM, get_all_authors, get_wiki_data, get_wiki_author_time, read_wiki_author_time\n",
    "from dietcoke import Corpus, dynaspan_lst, Author"
   ]
  },
  {
   "cell_type": "code",
   "execution_count": 2,
   "metadata": {},
   "outputs": [],
   "source": [
    "save_mode = True\n",
    "# if True, save generated data except for wiki_retrieved_data"
   ]
  },
  {
   "cell_type": "code",
   "execution_count": 3,
   "metadata": {},
   "outputs": [
    {
     "name": "stderr",
     "output_type": "stream",
     "text": [
      "100%|██████████| 9/9 [00:00<00:00, 5739.51it/s]\n",
      "100%|██████████| 9/9 [00:20<00:00,  2.31s/it]\n"
     ]
    },
    {
     "name": "stdout",
     "output_type": "stream",
     "text": [
      "File saved: ../data/author_time/names_clean.txt\n"
     ]
    }
   ],
   "source": [
    "authors_tier1, authors_tier12, authors_uni = get_all_authors(save_names_clean=save_mode)"
   ]
  },
  {
   "cell_type": "code",
   "execution_count": 4,
   "metadata": {},
   "outputs": [
    {
     "name": "stdout",
     "output_type": "stream",
     "text": [
      "---\n",
      "Count of tier1: 30 / 120\n",
      "Coverage of tier1: 0.25\n",
      "---\n",
      "Count of tier12: 3938 / 4109\n",
      "Coverage of tier12: 0.96\n"
     ]
    }
   ],
   "source": [
    "## print\n",
    "cnt_tier1 = sum([not re.match(PAT_ANONYM, n) for n in authors_tier1])\n",
    "cnt_tier12 = sum([not re.match(PAT_ANONYM, n) for n in authors_tier12])\n",
    "\n",
    "print('---\\nCount of tier1:', cnt_tier1, '/', len(authors_tier1))\n",
    "print('Coverage of tier1:', round(cnt_tier1 / len(authors_tier1), 2))\n",
    "\n",
    "print('---\\nCount of tier12:', cnt_tier12, '/', len(authors_tier12))\n",
    "print('Coverage of tier12:', round(cnt_tier12 / len(authors_tier12), 2))"
   ]
  },
  {
   "cell_type": "code",
   "execution_count": 5,
   "metadata": {},
   "outputs": [
    {
     "name": "stdout",
     "output_type": "stream",
     "text": [
      "Count of retrieved data: 1237\n",
      "Count of author time info: 884\n"
     ]
    }
   ],
   "source": [
    "# get_wiki_data()\n",
    "get_wiki_author_time(save_wiki_author_time=save_mode)"
   ]
  },
  {
   "cell_type": "code",
   "execution_count": 6,
   "metadata": {},
   "outputs": [
    {
     "name": "stdout",
     "output_type": "stream",
     "text": [
      "[['管仲', [-725, -645]], ['墨翟', [-468, -376]], ['列御寇', [-450, -375]], ['韩非', [-281, -233]], ['伏胜', [-250, -150]], ['吕不韦', [-235]], ['贾谊', [-200, -168]], ['韩婴', [-200, -130]], ['刘安', [-179, -122]], ['董仲舒', [-179, -104]]]\n",
      "---\n",
      "[['王德溥', [1896, 1991]], ['宋子安', [1906, 1969]], ['王德瑛', [1931]], ['吕中', [1940]], ['周济', [1946]], ['陈玉树', [1953, 2017]], ['王希明', [1962]], ['陈炜', [1973]], ['许嵩', [1986]], ['张昱', [1988]]]\n"
     ]
    }
   ],
   "source": [
    "wiki_author_time = read_wiki_author_time()\n",
    "print(wiki_author_time[:10])\n",
    "print('---')\n",
    "print(wiki_author_time[-10:])"
   ]
  },
  {
   "cell_type": "markdown",
   "metadata": {},
   "source": [
    "---"
   ]
  },
  {
   "cell_type": "code",
   "execution_count": 7,
   "metadata": {},
   "outputs": [
    {
     "name": "stdout",
     "output_type": "stream",
     "text": [
      "-----\n",
      " 先秦\n",
      "Reading existing lookup file...\n",
      "File saved: ../data/author_time/year_lineid_lookup_先秦.json\n",
      "=====\n",
      "Number of text with author and time: 27 / 88\n",
      "Done checking ...\n",
      "-----\n",
      " 漢\n",
      "Reading existing lookup file...\n",
      "File saved: ../data/author_time/year_lineid_lookup_漢.json\n",
      "=====\n",
      "Number of text with author and time: 136 / 265\n",
      "Done checking ...\n",
      "-----\n",
      " 魏晉南北\n",
      "Reading existing lookup file...\n",
      "File saved: ../data/author_time/year_lineid_lookup_魏晉南北.json\n",
      "=====\n",
      "Number of text with author and time: 110 / 165\n",
      "Done checking ...\n",
      "-----\n",
      " 唐五代十國\n",
      "Reading existing lookup file...\n",
      "File saved: ../data/author_time/year_lineid_lookup_唐五代十國.json\n",
      "=====\n",
      "Number of text with author and time: 188 / 310\n",
      "Done checking ...\n",
      "-----\n",
      " 宋元\n",
      "Reading existing lookup file...\n",
      "File saved: ../data/author_time/year_lineid_lookup_宋元.json\n",
      "=====\n",
      "Number of text with author and time: 514 / 1124\n",
      "Done checking ...\n",
      "-----\n",
      " 明\n",
      "Reading existing lookup file...\n",
      "File saved: ../data/author_time/year_lineid_lookup_明.json\n",
      "=====\n",
      "Number of text with author and time: 339 / 559\n",
      "Done checking ...\n",
      "-----\n",
      " 清\n",
      "Reading existing lookup file...\n",
      "File saved: ../data/author_time/year_lineid_lookup_清.json\n",
      "=====\n",
      "Number of text with author and time: 898 / 1592\n",
      "Done checking ...\n",
      "-----\n",
      " 民國\n",
      "Reading existing lookup file...\n",
      "File saved: ../data/author_time/year_lineid_lookup_民國.json\n",
      "=====\n",
      "Number of text with author and time: 3 / 6\n",
      "Done checking ...\n"
     ]
    }
   ],
   "source": [
    "for dynaspan in dynaspan_lst:\n",
    "    print('-----\\n', dynaspan)\n",
    "    corpus = Corpus(dynaspan)\n",
    "    corpus.read_corpus()\n",
    "\n",
    "    corpus.get_author_time_lookup(save_lookup=save_mode)\n",
    "    author_time_corpus = corpus.get_author_time_corpus()\n",
    "\n",
    "    num_with_author = len(corpus.corpus)\n",
    "    if '-9999' in author_time_corpus:\n",
    "        num_with_author -= len(author_time_corpus['-9999'])\n",
    "\n",
    "    print('=====\\nNumber of text with author and time:', num_with_author, '/', str(len(corpus.corpus)))\n",
    "\n",
    "    corpus.check_author_time()"
   ]
  },
  {
   "cell_type": "markdown",
   "metadata": {},
   "source": [
    "---"
   ]
  },
  {
   "cell_type": "code",
   "execution_count": 8,
   "metadata": {},
   "outputs": [],
   "source": [
    "group_authors = defaultdict(list)\n",
    "for author, time in wiki_author_time:\n",
    "    group_authors[str(time)].append(author)"
   ]
  },
  {
   "cell_type": "code",
   "execution_count": 9,
   "metadata": {},
   "outputs": [
    {
     "name": "stdout",
     "output_type": "stream",
     "text": [
      "[150, 219] ['宋衷', '张机']\n",
      "[1007, 1072] ['契嵩', '欧阳修']\n",
      "[1079, 1154] ['汪藻', '许叔微']\n",
      "[1420, 1474] ['叶盛', '岳正']\n",
      "[1472, 1529] ['李梦阳', '王守仁']\n",
      "[1512, 1565] ['胡宗宪', '韩叔阳']\n",
      "[1558, 1639] ['郝敬', '陈继儒']\n",
      "[1755, 1837] ['石韫玉', '范照藜']\n",
      "[1799, 1873] ['何绍基', '王柏心']\n",
      "[1824, 1890] ['曾国荃', '黄彭年']\n",
      "[1838, 1894] ['薛福成', '陆心源']\n",
      "[1842, 1906] ['姚振宗', '王之春']\n",
      "[1852, 1936] ['王树枏', '王树枬']\n"
     ]
    }
   ],
   "source": [
    "for life, author_lst in group_authors.items():\n",
    "    if len(author_lst) >= 2:\n",
    "        print(life, author_lst)"
   ]
  },
  {
   "cell_type": "markdown",
   "metadata": {},
   "source": [
    "---"
   ]
  },
  {
   "cell_type": "code",
   "execution_count": 10,
   "metadata": {},
   "outputs": [],
   "source": [
    "df = pd.DataFrame(list(group_authors.items()))\n",
    "df.columns = ('life', 'author_lst')\n",
    "df['mid_year'] = [Author(n[-1]).rep_year for n in df['author_lst']]\n",
    "\n",
    "if save_mode:\n",
    "    df.to_csv('../data/author_time/author_timeline.csv')"
   ]
  },
  {
   "cell_type": "code",
   "execution_count": 13,
   "metadata": {},
   "outputs": [
    {
     "data": {
      "text/html": [
       "<div>\n",
       "<style scoped>\n",
       "    .dataframe tbody tr th:only-of-type {\n",
       "        vertical-align: middle;\n",
       "    }\n",
       "\n",
       "    .dataframe tbody tr th {\n",
       "        vertical-align: top;\n",
       "    }\n",
       "\n",
       "    .dataframe thead th {\n",
       "        text-align: right;\n",
       "    }\n",
       "</style>\n",
       "<table border=\"1\" class=\"dataframe\">\n",
       "  <thead>\n",
       "    <tr style=\"text-align: right;\">\n",
       "      <th></th>\n",
       "      <th>life</th>\n",
       "      <th>author_lst</th>\n",
       "      <th>mid_year</th>\n",
       "    </tr>\n",
       "  </thead>\n",
       "  <tbody>\n",
       "    <tr>\n",
       "      <th>0</th>\n",
       "      <td>[-725, -645]</td>\n",
       "      <td>[管仲]</td>\n",
       "      <td>-685</td>\n",
       "    </tr>\n",
       "    <tr>\n",
       "      <th>1</th>\n",
       "      <td>[-468, -376]</td>\n",
       "      <td>[墨翟]</td>\n",
       "      <td>-422</td>\n",
       "    </tr>\n",
       "    <tr>\n",
       "      <th>2</th>\n",
       "      <td>[-450, -375]</td>\n",
       "      <td>[列御寇]</td>\n",
       "      <td>-412</td>\n",
       "    </tr>\n",
       "    <tr>\n",
       "      <th>3</th>\n",
       "      <td>[-281, -233]</td>\n",
       "      <td>[韩非]</td>\n",
       "      <td>-257</td>\n",
       "    </tr>\n",
       "    <tr>\n",
       "      <th>4</th>\n",
       "      <td>[-250, -150]</td>\n",
       "      <td>[伏胜]</td>\n",
       "      <td>-200</td>\n",
       "    </tr>\n",
       "    <tr>\n",
       "      <th>...</th>\n",
       "      <td>...</td>\n",
       "      <td>...</td>\n",
       "      <td>...</td>\n",
       "    </tr>\n",
       "    <tr>\n",
       "      <th>866</th>\n",
       "      <td>[1953, 2017]</td>\n",
       "      <td>[陈玉树]</td>\n",
       "      <td>1985</td>\n",
       "    </tr>\n",
       "    <tr>\n",
       "      <th>867</th>\n",
       "      <td>[1962]</td>\n",
       "      <td>[王希明]</td>\n",
       "      <td>1962</td>\n",
       "    </tr>\n",
       "    <tr>\n",
       "      <th>868</th>\n",
       "      <td>[1973]</td>\n",
       "      <td>[陈炜]</td>\n",
       "      <td>1973</td>\n",
       "    </tr>\n",
       "    <tr>\n",
       "      <th>869</th>\n",
       "      <td>[1986]</td>\n",
       "      <td>[许嵩]</td>\n",
       "      <td>1986</td>\n",
       "    </tr>\n",
       "    <tr>\n",
       "      <th>870</th>\n",
       "      <td>[1988]</td>\n",
       "      <td>[张昱]</td>\n",
       "      <td>1988</td>\n",
       "    </tr>\n",
       "  </tbody>\n",
       "</table>\n",
       "<p>871 rows × 3 columns</p>\n",
       "</div>"
      ],
      "text/plain": [
       "             life author_lst  mid_year\n",
       "0    [-725, -645]       [管仲]      -685\n",
       "1    [-468, -376]       [墨翟]      -422\n",
       "2    [-450, -375]      [列御寇]      -412\n",
       "3    [-281, -233]       [韩非]      -257\n",
       "4    [-250, -150]       [伏胜]      -200\n",
       "..            ...        ...       ...\n",
       "866  [1953, 2017]      [陈玉树]      1985\n",
       "867        [1962]      [王希明]      1962\n",
       "868        [1973]       [陈炜]      1973\n",
       "869        [1986]       [许嵩]      1986\n",
       "870        [1988]       [张昱]      1988\n",
       "\n",
       "[871 rows x 3 columns]"
      ]
     },
     "execution_count": 13,
     "metadata": {},
     "output_type": "execute_result"
    }
   ],
   "source": [
    "df"
   ]
  },
  {
   "cell_type": "code",
   "execution_count": 12,
   "metadata": {},
   "outputs": [],
   "source": [
    "# 莊述祖\n",
    "# 王树枏/王树枬"
   ]
  }
 ],
 "metadata": {
  "interpreter": {
   "hash": "31002e1045040571bb605909eb291001a97d9c0ee2ddb09dce3fd55b3a637b52"
  },
  "kernelspec": {
   "display_name": "Python 3.8.6 64-bit ('.venv': venv)",
   "name": "python3"
  },
  "language_info": {
   "codemirror_mode": {
    "name": "ipython",
    "version": 3
   },
   "file_extension": ".py",
   "mimetype": "text/x-python",
   "name": "python",
   "nbconvert_exporter": "python",
   "pygments_lexer": "ipython3",
   "version": "3.8.6"
  },
  "orig_nbformat": 4
 },
 "nbformat": 4,
 "nbformat_minor": 2
}
