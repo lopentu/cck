{
 "cells": [
  {
   "cell_type": "code",
   "execution_count": 1,
   "metadata": {},
   "outputs": [],
   "source": [
    "import sys, os\n",
    "from pathlib import Path\n",
    "if \"../src\" not in sys.path:\n",
    "    sys.path.append(\"../src\")\n",
    "\n",
    "import re\n",
    "import pandas as pd\n",
    "from collections import defaultdict\n",
    "from dietcoke.get_author import PAT_ANONYM, get_all_authors, get_wiki_data, get_wiki_author_time, read_wiki_author_time\n",
    "from dietcoke import Corpus, dynaspan_lst"
   ]
  },
  {
   "cell_type": "code",
   "execution_count": 2,
   "metadata": {},
   "outputs": [
    {
     "name": "stderr",
     "output_type": "stream",
     "text": [
      "100%|██████████| 9/9 [00:00<00:00, 12680.13it/s]\n",
      "100%|██████████| 9/9 [00:23<00:00,  2.61s/it]\n"
     ]
    },
    {
     "name": "stdout",
     "output_type": "stream",
     "text": [
      "File saved: ../data/author_time/names_clean.txt\n"
     ]
    }
   ],
   "source": [
    "authors_tier1, authors_tier12, authors_uni = get_all_authors(save_names_clean=True)"
   ]
  },
  {
   "cell_type": "code",
   "execution_count": 3,
   "metadata": {},
   "outputs": [
    {
     "name": "stdout",
     "output_type": "stream",
     "text": [
      "---\n",
      "Count of tier1: 30 / 120\n",
      "Coverage of tier1: 0.25\n",
      "---\n",
      "Count of tier12: 3938 / 4109\n",
      "Coverage of tier12: 0.96\n"
     ]
    }
   ],
   "source": [
    "## print\n",
    "cnt_tier1 = sum([not re.match(PAT_ANONYM, n) for n in authors_tier1])\n",
    "cnt_tier12 = sum([not re.match(PAT_ANONYM, n) for n in authors_tier12])\n",
    "\n",
    "print('---\\nCount of tier1:', cnt_tier1, '/', len(authors_tier1))\n",
    "print('Coverage of tier1:', round(cnt_tier1 / len(authors_tier1), 2))\n",
    "\n",
    "print('---\\nCount of tier12:', cnt_tier12, '/', len(authors_tier12))\n",
    "print('Coverage of tier12:', round(cnt_tier12 / len(authors_tier12), 2))"
   ]
  },
  {
   "cell_type": "code",
   "execution_count": 4,
   "metadata": {},
   "outputs": [
    {
     "name": "stdout",
     "output_type": "stream",
     "text": [
      "Count of retrieved data: 1237\n",
      "Count of author time info: 884\n"
     ]
    }
   ],
   "source": [
    "# get_wiki_data()\n",
    "get_wiki_author_time()"
   ]
  },
  {
   "cell_type": "code",
   "execution_count": 5,
   "metadata": {},
   "outputs": [
    {
     "name": "stdout",
     "output_type": "stream",
     "text": [
      "[['管仲', [-725, -645]], ['墨翟', [-468, -376]], ['列御寇', [-450, -375]], ['韩非', [-281, -233]], ['伏胜', [-250, -150]], ['吕不韦', [-235]], ['贾谊', [-200, -168]], ['韩婴', [-200, -130]], ['刘安', [-179, -122]], ['董仲舒', [-179, -104]]]\n",
      "---\n",
      "[['王德溥', [1896, 1991]], ['宋子安', [1906, 1969]], ['王德瑛', [1931]], ['吕中', [1940]], ['周济', [1946]], ['陈玉树', [1953, 2017]], ['王希明', [1962]], ['陈炜', [1973]], ['许嵩', [1986]], ['张昱', [1988]]]\n"
     ]
    }
   ],
   "source": [
    "wiki_author_time = read_wiki_author_time()\n",
    "print(wiki_author_time[:10])\n",
    "print('---')\n",
    "print(wiki_author_time[-10:])"
   ]
  },
  {
   "cell_type": "code",
   "execution_count": 7,
   "metadata": {},
   "outputs": [
    {
     "name": "stdout",
     "output_type": "stream",
     "text": [
      "-----\n",
      " 先秦\n",
      "Reading existing lookup file...\n",
      "list index out of range\n",
      "-----\n",
      " 漢\n",
      "Reading existing lookup file...\n",
      "list index out of range\n",
      "-----\n",
      " 魏晉南北\n",
      "Reading existing lookup file...\n",
      "list index out of range\n",
      "-----\n",
      " 唐五代十國\n",
      "Reading existing lookup file...\n",
      "list index out of range\n",
      "-----\n",
      " 宋元\n",
      "Reading existing lookup file...\n",
      "list index out of range\n",
      "-----\n",
      " 明\n",
      "Reading existing lookup file...\n",
      "list index out of range\n",
      "-----\n",
      " 清\n",
      "Reading existing lookup file...\n",
      "-9999\n",
      "Not matched ('學記箋証', 'wb672913', '王樹枏', 1894)\n",
      "-9999\n",
      "Not matched ('費氏古易訂文', 'wb544752', '王樹枏', 1894)\n",
      "-9999\n",
      "Not matched ('爾雅郭注佚存補訂', 'wb251246', '王樹枏', 1894)\n",
      "-----\n",
      " 民國\n",
      "Reading existing lookup file...\n",
      "list index out of range\n"
     ]
    }
   ],
   "source": [
    "dynaspan = '清'\n",
    "print('-----\\n', dynaspan)\n",
    "corpus = Corpus(dynaspan)\n",
    "corpus.read_corpus()\n",
    "\n",
    "# corpus.get_author_time_lookup(save_lookup=True)\n",
    "author_time_corpus = corpus.get_author_time_corpus()\n",
    "\n",
    "corpus.check_author_time()"
   ]
  },
  {
   "cell_type": "code",
   "execution_count": null,
   "metadata": {},
   "outputs": [
    {
     "data": {
      "text/plain": [
       "[<dietcoke.utils.Text at 0x132e96f70>,\n",
       " <dietcoke.utils.Text at 0x120031b50>,\n",
       " <dietcoke.utils.Text at 0x1310e6460>]"
      ]
     },
     "execution_count": 7,
     "metadata": {},
     "output_type": "execute_result"
    }
   ],
   "source": [
    "author_time_corpus['496']"
   ]
  },
  {
   "cell_type": "code",
   "execution_count": null,
   "metadata": {},
   "outputs": [],
   "source": [
    "group_authors = defaultdict(list)\n",
    "for author, time in wiki_author_time:\n",
    "    group_authors[str(time)].append(author)"
   ]
  },
  {
   "cell_type": "code",
   "execution_count": null,
   "metadata": {},
   "outputs": [
    {
     "name": "stdout",
     "output_type": "stream",
     "text": [
      "[150, 219] ['宋衷', '张机']\n",
      "[1007, 1072] ['契嵩', '欧阳修']\n",
      "[1079, 1154] ['汪藻', '许叔微']\n",
      "[1420, 1474] ['叶盛', '岳正']\n",
      "[1472, 1529] ['李梦阳', '王守仁']\n",
      "[1512, 1565] ['胡宗宪', '韩叔阳']\n",
      "[1558, 1639] ['郝敬', '陈继儒']\n",
      "[1755, 1837] ['石韫玉', '范照藜']\n",
      "[1799, 1873] ['何绍基', '王柏心']\n",
      "[1824, 1890] ['曾国荃', '黄彭年']\n",
      "[1838, 1894] ['薛福成', '陆心源']\n",
      "[1842, 1906] ['姚振宗', '王之春']\n",
      "[1852, 1936] ['王树枏', '王树枬']\n"
     ]
    }
   ],
   "source": [
    "for life, author_lst in group_authors.items():\n",
    "    if len(author_lst) >= 2:\n",
    "        print(life, author_lst)"
   ]
  },
  {
   "cell_type": "code",
   "execution_count": null,
   "metadata": {},
   "outputs": [
    {
     "data": {
      "text/html": [
       "<div>\n",
       "<style scoped>\n",
       "    .dataframe tbody tr th:only-of-type {\n",
       "        vertical-align: middle;\n",
       "    }\n",
       "\n",
       "    .dataframe tbody tr th {\n",
       "        vertical-align: top;\n",
       "    }\n",
       "\n",
       "    .dataframe thead th {\n",
       "        text-align: right;\n",
       "    }\n",
       "</style>\n",
       "<table border=\"1\" class=\"dataframe\">\n",
       "  <thead>\n",
       "    <tr style=\"text-align: right;\">\n",
       "      <th></th>\n",
       "      <th>life</th>\n",
       "      <th>author_lst</th>\n",
       "    </tr>\n",
       "  </thead>\n",
       "  <tbody>\n",
       "    <tr>\n",
       "      <th>0</th>\n",
       "      <td>[-725, -645]</td>\n",
       "      <td>[管仲]</td>\n",
       "    </tr>\n",
       "    <tr>\n",
       "      <th>1</th>\n",
       "      <td>[-468, -376]</td>\n",
       "      <td>[墨翟]</td>\n",
       "    </tr>\n",
       "    <tr>\n",
       "      <th>2</th>\n",
       "      <td>[-450, -375]</td>\n",
       "      <td>[列御寇]</td>\n",
       "    </tr>\n",
       "    <tr>\n",
       "      <th>3</th>\n",
       "      <td>[-281, -233]</td>\n",
       "      <td>[韩非]</td>\n",
       "    </tr>\n",
       "    <tr>\n",
       "      <th>4</th>\n",
       "      <td>[-250, -150]</td>\n",
       "      <td>[伏胜]</td>\n",
       "    </tr>\n",
       "    <tr>\n",
       "      <th>5</th>\n",
       "      <td>[-235]</td>\n",
       "      <td>[吕不韦]</td>\n",
       "    </tr>\n",
       "    <tr>\n",
       "      <th>6</th>\n",
       "      <td>[-200, -168]</td>\n",
       "      <td>[贾谊]</td>\n",
       "    </tr>\n",
       "    <tr>\n",
       "      <th>7</th>\n",
       "      <td>[-200, -130]</td>\n",
       "      <td>[韩婴]</td>\n",
       "    </tr>\n",
       "    <tr>\n",
       "      <th>8</th>\n",
       "      <td>[-179, -122]</td>\n",
       "      <td>[刘安]</td>\n",
       "    </tr>\n",
       "    <tr>\n",
       "      <th>9</th>\n",
       "      <td>[-179, -104]</td>\n",
       "      <td>[董仲舒]</td>\n",
       "    </tr>\n",
       "    <tr>\n",
       "      <th>10</th>\n",
       "      <td>[-154, -93]</td>\n",
       "      <td>[东方朔]</td>\n",
       "    </tr>\n",
       "    <tr>\n",
       "      <th>11</th>\n",
       "      <td>[-145, -50]</td>\n",
       "      <td>[司马迁]</td>\n",
       "    </tr>\n",
       "    <tr>\n",
       "      <th>12</th>\n",
       "      <td>[-53, 18]</td>\n",
       "      <td>[扬雄]</td>\n",
       "    </tr>\n",
       "    <tr>\n",
       "      <th>13</th>\n",
       "      <td>[-50, 23]</td>\n",
       "      <td>[刘歆]</td>\n",
       "    </tr>\n",
       "    <tr>\n",
       "      <th>14</th>\n",
       "      <td>[27, 97]</td>\n",
       "      <td>[王充]</td>\n",
       "    </tr>\n",
       "    <tr>\n",
       "      <th>15</th>\n",
       "      <td>[30, 124]</td>\n",
       "      <td>[许慎]</td>\n",
       "    </tr>\n",
       "    <tr>\n",
       "      <th>16</th>\n",
       "      <td>[32, 92]</td>\n",
       "      <td>[班固]</td>\n",
       "    </tr>\n",
       "    <tr>\n",
       "      <th>17</th>\n",
       "      <td>[49, 120]</td>\n",
       "      <td>[班昭]</td>\n",
       "    </tr>\n",
       "    <tr>\n",
       "      <th>18</th>\n",
       "      <td>[83, 170]</td>\n",
       "      <td>[王符]</td>\n",
       "    </tr>\n",
       "    <tr>\n",
       "      <th>19</th>\n",
       "      <td>[108, 201]</td>\n",
       "      <td>[赵岐]</td>\n",
       "    </tr>\n",
       "  </tbody>\n",
       "</table>\n",
       "</div>"
      ],
      "text/plain": [
       "            life author_lst\n",
       "0   [-725, -645]       [管仲]\n",
       "1   [-468, -376]       [墨翟]\n",
       "2   [-450, -375]      [列御寇]\n",
       "3   [-281, -233]       [韩非]\n",
       "4   [-250, -150]       [伏胜]\n",
       "5         [-235]      [吕不韦]\n",
       "6   [-200, -168]       [贾谊]\n",
       "7   [-200, -130]       [韩婴]\n",
       "8   [-179, -122]       [刘安]\n",
       "9   [-179, -104]      [董仲舒]\n",
       "10   [-154, -93]      [东方朔]\n",
       "11   [-145, -50]      [司马迁]\n",
       "12     [-53, 18]       [扬雄]\n",
       "13     [-50, 23]       [刘歆]\n",
       "14      [27, 97]       [王充]\n",
       "15     [30, 124]       [许慎]\n",
       "16      [32, 92]       [班固]\n",
       "17     [49, 120]       [班昭]\n",
       "18     [83, 170]       [王符]\n",
       "19    [108, 201]       [赵岐]"
      ]
     },
     "execution_count": 10,
     "metadata": {},
     "output_type": "execute_result"
    }
   ],
   "source": [
    "df = pd.DataFrame(list(group_authors.items()))\n",
    "df.columns = ('life', 'author_lst')\n",
    "df.to_csv('../data/author_time/tmp_author_timeline.csv')\n",
    "df.head(20)"
   ]
  },
  {
   "cell_type": "code",
   "execution_count": null,
   "metadata": {},
   "outputs": [],
   "source": []
  }
 ],
 "metadata": {
  "interpreter": {
   "hash": "31002e1045040571bb605909eb291001a97d9c0ee2ddb09dce3fd55b3a637b52"
  },
  "kernelspec": {
   "display_name": "Python 3.8.6 64-bit ('.venv': venv)",
   "name": "python3"
  },
  "language_info": {
   "codemirror_mode": {
    "name": "ipython",
    "version": 3
   },
   "file_extension": ".py",
   "mimetype": "text/x-python",
   "name": "python",
   "nbconvert_exporter": "python",
   "pygments_lexer": "ipython3",
   "version": "3.8.6"
  },
  "orig_nbformat": 4
 },
 "nbformat": 4,
 "nbformat_minor": 2
}
