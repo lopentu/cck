{
 "cells": [
  {
   "cell_type": "code",
   "execution_count": 1,
   "source": [
    "import sys, os\n",
    "from pathlib import Path\n",
    "if \"../src\" not in sys.path:\n",
    "    sys.path.append(\"../src\")\n",
    "import dietcoke\n",
    "from collections import Counter\n",
    "from tqdm.auto import tqdm"
   ],
   "outputs": [],
   "metadata": {}
  },
  {
   "cell_type": "code",
   "execution_count": 2,
   "source": [
    "authors = []\n",
    "for fp in tqdm(dietcoke.fp_lst):\n",
    "    f = open(fp, 'r', encoding='utf-8')\n",
    "    corpus = f.readlines()\n",
    "    for line in corpus:\n",
    "        author = dietcoke.Text(line).author\n",
    "        authors.append(author)"
   ],
   "outputs": [
    {
     "output_type": "stream",
     "name": "stderr",
     "text": [
      "100%|██████████| 9/9 [00:30<00:00,  3.43s/it]\n"
     ]
    }
   ],
   "metadata": {}
  },
  {
   "cell_type": "code",
   "execution_count": 3,
   "source": [
    "author_cnt = Counter(authors)\n",
    "authors_uni = list(author_cnt.keys())"
   ],
   "outputs": [],
   "metadata": {}
  },
  {
   "cell_type": "code",
   "execution_count": 4,
   "source": [
    "for author in authors_uni:\n",
    "    if not author == '':\n",
    "        author_split = author.split('、')\n",
    "        author_last = author_split[-1]\n",
    "        if len(author_last[:-1]) > 2:\n",
    "            print(author_split, '->', author_last[-1])"
   ],
   "outputs": [
    {
     "output_type": "stream",
     "name": "stdout",
     "text": [
      "['徐世昌輯'] -> 輯\n",
      "['汪榮寶撰'] -> 撰\n",
      "['Liang Qi Chao'] -> o\n",
      "['孔安國傳'] -> 傳\n",
      "['瞿曇悉達'] -> 達\n",
      "['司馬承禎'] -> 禎\n",
      "['司馬承禎撰'] -> 撰\n",
      "['令狐德棻'] -> 棻\n",
      "['原題司馬承禎述'] -> 述\n",
      "['長孫無忌'] -> 忌\n",
      "['杜光庭撰'] -> 撰\n",
      "['釋玄奘奉敕譯'] -> 譯\n",
      "['Du You'] -> u\n",
      "['宇文懋昭'] -> 昭\n",
      "['林希逸註'] -> 註\n",
      "['耶律楚材'] -> 材\n",
      "['劉處玄註'] -> 註\n",
      "['張君房編'] -> 編\n",
      "['劉基', '劉標', '劉宗[ding]'] -> ]\n",
      "['太平老人'] -> 人\n",
      "['原題 锺離權著呂喦傳'] -> 傳\n",
      "['司馬光註'] -> 註\n",
      "['Zhu Xi'] -> i\n",
      "['完顏和素'] -> 素\n",
      "['李白著，王琦輯註'] -> 註\n",
      "['劉[Qing]'] -> ]\n",
      "['天花藏主人'] -> 人\n",
      "['[佚名]'] -> ]\n",
      "['楊守敬撰'] -> 撰\n",
      "['王闓運撰'] -> 撰\n",
      "['横田惟孝'] -> 孝\n",
      "['聖祖仁皇帝'] -> 帝\n",
      "['亟齋居士'] -> 士\n",
      "['汪孟[Xuan]'] -> ]\n",
      "['乾隆十三年'] -> 年\n",
      "['易順鼎撰'] -> 撰\n",
      "['王國維撰'] -> 撰\n",
      "['服部誠一'] -> 一\n",
      "['順治世祖章皇帝'] -> 帝\n",
      "['吳慶坻撰'] -> 撰\n",
      "['汪繼培箋'] -> 箋\n",
      "['世宗憲皇帝'] -> 帝\n",
      "['嗤嗤道人'] -> 人\n",
      "['陸繼輅', '陸錢惠尊'] -> 尊\n",
      "['翁洲老民'] -> 民\n",
      "['柴野栗山'] -> 山\n",
      "['長岡春一'] -> 一\n",
      "['康熙聖祖仁皇帝'] -> 帝\n",
      "['丘逢甲撰'] -> 撰\n",
      "['康有為撰'] -> 撰\n",
      "['訥齋道人'] -> 人\n",
      "['吉田良太郎', '八詠樓主人'] -> 人\n",
      "['愛新覺羅永瑆'] -> 瑆\n",
      "['雍正世宗憲皇帝'] -> 帝\n",
      "['乾隆十二年'] -> 年\n",
      "['空空主人'] -> 人\n",
      "['尾藤二洲'] -> 洲\n",
      "['酌元亭主人'] -> 人\n",
      "['九容樓主人'] -> 人\n",
      "['嚴虞惇', '平陽主人'] -> 人\n",
      "['隨緣下士編'] -> 編\n",
      "['章炳麟撰'] -> 撰\n",
      "['小藤文次郎'] -> 郎\n",
      "['Sun Yi-Rang'] -> g\n",
      "['張之象，', '凌迪知，'] -> ，\n",
      "['[Chu]宏'] -> 宏\n",
      "['題浣雲叟'] -> 叟\n",
      "['金木散人'] -> 人\n",
      "['舊題管仲'] -> 仲\n",
      "['司馬穰苴'] -> 苴\n",
      "['Shen Dao'] -> o\n",
      "['Sun Wu'] -> u\n",
      "['Li Si'] -> i\n",
      "['Lu Bu-wei'] -> i\n",
      "['Wu Qi'] -> i\n",
      "['Liu Xiang'] -> g\n",
      "['Xu Shen'] -> n\n",
      "['Ban Gu'] -> u\n",
      "['Yang Xiong'] -> g\n",
      "['Sima Qian'] -> n\n",
      "['Liu Yi Qing'] -> g\n",
      "['Wang Bi'] -> i\n",
      "['Jia Yi'] -> i\n",
      "['Jiao Yanshou'] -> u\n",
      "['Xu Gan'] -> n\n",
      "['Lu Sheng'] -> g\n",
      "['Yan Zhi Tui'] -> i\n",
      "['Huan Kuan'] -> n\n",
      "['Wang Fu'] -> u\n",
      "['Jing Fang'] -> g\n",
      "['Wang Chong'] -> g\n",
      "['Dong Zhong Shu'] -> u\n",
      "['王逸章句'] -> 句\n",
      "['原題劉向撰'] -> 撰\n",
      "['郭象註成玄英疏'] -> 疏\n",
      "['康僧鎧，彭際清；畺良邪舍'] -> 舍\n"
     ]
    }
   ],
   "metadata": {}
  },
  {
   "cell_type": "code",
   "execution_count": null,
   "source": [],
   "outputs": [],
   "metadata": {}
  }
 ],
 "metadata": {
  "orig_nbformat": 4,
  "language_info": {
   "name": "python",
   "version": "3.8.6",
   "mimetype": "text/x-python",
   "codemirror_mode": {
    "name": "ipython",
    "version": 3
   },
   "pygments_lexer": "ipython3",
   "nbconvert_exporter": "python",
   "file_extension": ".py"
  },
  "kernelspec": {
   "name": "python3",
   "display_name": "Python 3.8.6 64-bit ('.venv': venv)"
  },
  "interpreter": {
   "hash": "36e399beab94a22a0ab02c1e9d462dc6e3d4d3c02b92789ff83f00a0cc48baf7"
  }
 },
 "nbformat": 4,
 "nbformat_minor": 2
}