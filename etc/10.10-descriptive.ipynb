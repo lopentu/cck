{
 "cells": [
  {
   "cell_type": "code",
   "execution_count": 1,
   "id": "685f82fc-aaaa-4aaa-9531-5b5a86f95a2a",
   "metadata": {},
   "outputs": [],
   "source": [
    "%load_ext autoreload\n",
    "%autoreload 2"
   ]
  },
  {
   "cell_type": "code",
   "execution_count": 2,
   "id": "af98d389-7728-4665-9652-7f58a3f86bdd",
   "metadata": {},
   "outputs": [],
   "source": [
    "import sys\n",
    "from pathlib import Path\n",
    "if \"../src\" not in sys.path:\n",
    "    sys.path.append(\"../src\")\n",
    "from tqdm.auto import tqdm\n",
    "import numpy as np"
   ]
  },
  {
   "cell_type": "code",
   "execution_count": 12,
   "id": "6f8c9fed-7928-493c-bd3c-c78652355c99",
   "metadata": {},
   "outputs": [],
   "source": [
    "DYNSPANS=\"tier1,先秦,漢,魏晉南北,唐五代十國,宋元,明,清\".split(\",\")"
   ]
  },
  {
   "cell_type": "code",
   "execution_count": 15,
   "id": "8dc2f40c-7d5e-4321-808e-c37f53f0044a",
   "metadata": {},
   "outputs": [
    {
     "data": {
      "application/vnd.jupyter.widget-view+json": {
       "model_id": "5373eacd3c8a4168bdd6409a3f052b59",
       "version_major": 2,
       "version_minor": 0
      },
      "text/plain": [
       "tier1: 0it [00:00, ?it/s]"
      ]
     },
     "metadata": {},
     "output_type": "display_data"
    },
    {
     "data": {
      "application/vnd.jupyter.widget-view+json": {
       "model_id": "3ffc37bdc87f4c78a2e983b7ef8cc160",
       "version_major": 2,
       "version_minor": 0
      },
      "text/plain": [
       "先秦: 0it [00:00, ?it/s]"
      ]
     },
     "metadata": {},
     "output_type": "display_data"
    },
    {
     "data": {
      "application/vnd.jupyter.widget-view+json": {
       "model_id": "a91e5ac70dec4b9c8370598bb3d939b5",
       "version_major": 2,
       "version_minor": 0
      },
      "text/plain": [
       "漢: 0it [00:00, ?it/s]"
      ]
     },
     "metadata": {},
     "output_type": "display_data"
    },
    {
     "data": {
      "application/vnd.jupyter.widget-view+json": {
       "model_id": "9425d4295656482a915b81e152b71470",
       "version_major": 2,
       "version_minor": 0
      },
      "text/plain": [
       "魏晉南北: 0it [00:00, ?it/s]"
      ]
     },
     "metadata": {},
     "output_type": "display_data"
    },
    {
     "data": {
      "application/vnd.jupyter.widget-view+json": {
       "model_id": "4cd2ba5e443149a2b58e9b10b864b567",
       "version_major": 2,
       "version_minor": 0
      },
      "text/plain": [
       "唐五代十國: 0it [00:00, ?it/s]"
      ]
     },
     "metadata": {},
     "output_type": "display_data"
    },
    {
     "data": {
      "application/vnd.jupyter.widget-view+json": {
       "model_id": "27e003f2f4c546739173e6678cf88731",
       "version_major": 2,
       "version_minor": 0
      },
      "text/plain": [
       "宋元: 0it [00:00, ?it/s]"
      ]
     },
     "metadata": {},
     "output_type": "display_data"
    },
    {
     "data": {
      "application/vnd.jupyter.widget-view+json": {
       "model_id": "5d20d4368cf8481dbe61afca1c493b7b",
       "version_major": 2,
       "version_minor": 0
      },
      "text/plain": [
       "明: 0it [00:00, ?it/s]"
      ]
     },
     "metadata": {},
     "output_type": "display_data"
    },
    {
     "data": {
      "application/vnd.jupyter.widget-view+json": {
       "model_id": "b05344d659f24476b24ab9c558c3e21c",
       "version_major": 2,
       "version_minor": 0
      },
      "text/plain": [
       "清: 0it [00:00, ?it/s]"
      ]
     },
     "metadata": {},
     "output_type": "display_data"
    }
   ],
   "source": [
    "import json\n",
    "from collections import Counter\n",
    "from itertools import chain\n",
    "def flatten(x):\n",
    "    if isinstance(x, str):\n",
    "        return x\n",
    "    elif isinstance(x, list):\n",
    "        return \"\".join(x)\n",
    "    else:\n",
    "        assert False, \"\"\n",
    "\n",
    "records = []\n",
    "for dyn_x in DYNSPANS:\n",
    "    with open(f\"../data/corpus/data/dynasty_split/{dyn_x}.jsonl\", \"r\") as fin:\n",
    "        dyn_counter = {}\n",
    "        ntext = 0\n",
    "        for ln in tqdm(fin, desc=dyn_x):\n",
    "            ntext += 1\n",
    "            text = json.loads(ln)        \n",
    "            char_counter = Counter(chain.from_iterable(flatten(x[\"c\"]) for x in text[\"text\"]))\n",
    "            dyn_counter.update(char_counter)\n",
    "        records.append((dyn_x, ntext, len(dyn_counter), sum(dyn_counter.values())))\n",
    "        "
   ]
  },
  {
   "cell_type": "code",
   "execution_count": 17,
   "id": "07cfed6a-97dc-45f7-a3a7-425b88101f8b",
   "metadata": {},
   "outputs": [],
   "source": [
    "import pandas as pd\n",
    "dynfreq = pd.DataFrame(records, columns=\"dyn ntext ntype ntoken\".split())"
   ]
  },
  {
   "cell_type": "code",
   "execution_count": 18,
   "id": "f65e0d04-25ed-49a5-9e16-2aa0d363b3ae",
   "metadata": {},
   "outputs": [
    {
     "data": {
      "text/html": [
       "<div>\n",
       "<style scoped>\n",
       "    .dataframe tbody tr th:only-of-type {\n",
       "        vertical-align: middle;\n",
       "    }\n",
       "\n",
       "    .dataframe tbody tr th {\n",
       "        vertical-align: top;\n",
       "    }\n",
       "\n",
       "    .dataframe thead th {\n",
       "        text-align: right;\n",
       "    }\n",
       "</style>\n",
       "<table border=\"1\" class=\"dataframe\">\n",
       "  <thead>\n",
       "    <tr style=\"text-align: right;\">\n",
       "      <th></th>\n",
       "      <th>dyn</th>\n",
       "      <th>ntext</th>\n",
       "      <th>ntype</th>\n",
       "      <th>ntoken</th>\n",
       "    </tr>\n",
       "  </thead>\n",
       "  <tbody>\n",
       "    <tr>\n",
       "      <th>0</th>\n",
       "      <td>tier1</td>\n",
       "      <td>120</td>\n",
       "      <td>45182</td>\n",
       "      <td>497978</td>\n",
       "    </tr>\n",
       "    <tr>\n",
       "      <th>1</th>\n",
       "      <td>先秦</td>\n",
       "      <td>41</td>\n",
       "      <td>8940</td>\n",
       "      <td>99900</td>\n",
       "    </tr>\n",
       "    <tr>\n",
       "      <th>2</th>\n",
       "      <td>漢</td>\n",
       "      <td>79</td>\n",
       "      <td>16137</td>\n",
       "      <td>135662</td>\n",
       "    </tr>\n",
       "    <tr>\n",
       "      <th>3</th>\n",
       "      <td>魏晉南北</td>\n",
       "      <td>79</td>\n",
       "      <td>26789</td>\n",
       "      <td>84305</td>\n",
       "    </tr>\n",
       "    <tr>\n",
       "      <th>4</th>\n",
       "      <td>唐五代十國</td>\n",
       "      <td>182</td>\n",
       "      <td>16725</td>\n",
       "      <td>2037612</td>\n",
       "    </tr>\n",
       "    <tr>\n",
       "      <th>5</th>\n",
       "      <td>宋元</td>\n",
       "      <td>811</td>\n",
       "      <td>43596</td>\n",
       "      <td>296605</td>\n",
       "    </tr>\n",
       "    <tr>\n",
       "      <th>6</th>\n",
       "      <td>明</td>\n",
       "      <td>430</td>\n",
       "      <td>22995</td>\n",
       "      <td>258423</td>\n",
       "    </tr>\n",
       "    <tr>\n",
       "      <th>7</th>\n",
       "      <td>清</td>\n",
       "      <td>1281</td>\n",
       "      <td>53592</td>\n",
       "      <td>3972973</td>\n",
       "    </tr>\n",
       "  </tbody>\n",
       "</table>\n",
       "</div>"
      ],
      "text/plain": [
       "     dyn  ntext  ntype   ntoken\n",
       "0  tier1    120  45182   497978\n",
       "1     先秦     41   8940    99900\n",
       "2      漢     79  16137   135662\n",
       "3   魏晉南北     79  26789    84305\n",
       "4  唐五代十國    182  16725  2037612\n",
       "5     宋元    811  43596   296605\n",
       "6      明    430  22995   258423\n",
       "7      清   1281  53592  3972973"
      ]
     },
     "execution_count": 18,
     "metadata": {},
     "output_type": "execute_result"
    }
   ],
   "source": [
    "dynfreq"
   ]
  },
  {
   "cell_type": "code",
   "execution_count": 19,
   "id": "2134e53c-b02f-4337-981d-ad0b97a470aa",
   "metadata": {},
   "outputs": [
    {
     "data": {
      "text/plain": [
       "2903"
      ]
     },
     "execution_count": 19,
     "metadata": {},
     "output_type": "execute_result"
    }
   ],
   "source": [
    "dynfreq.ntext.sum()-120"
   ]
  },
  {
   "cell_type": "code",
   "execution_count": null,
   "id": "d8aafd5d-b19b-46de-a2a7-598f5b552660",
   "metadata": {},
   "outputs": [],
   "source": []
  }
 ],
 "metadata": {
  "kernelspec": {
   "display_name": "Python 3 (ipykernel)",
   "language": "python",
   "name": "python3"
  },
  "language_info": {
   "codemirror_mode": {
    "name": "ipython",
    "version": 3
   },
   "file_extension": ".py",
   "mimetype": "text/x-python",
   "name": "python",
   "nbconvert_exporter": "python",
   "pygments_lexer": "ipython3",
   "version": "3.9.5"
  }
 },
 "nbformat": 4,
 "nbformat_minor": 5
}
