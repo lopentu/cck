{
 "cells": [
  {
   "cell_type": "code",
   "execution_count": 11,
   "id": "cc164eba-f0b0-48c1-a96e-5a9e10558695",
   "metadata": {},
   "outputs": [],
   "source": [
    "import re\n",
    "from pathlib import Path\n",
    "from collections import Counter\n",
    "from lxml import etree\n",
    "from tqdm.auto import tqdm\n",
    "import zhon.hanzi\n",
    "import pandas as pd"
   ]
  },
  {
   "cell_type": "code",
   "execution_count": 2,
   "id": "eaafa358-c563-4f38-950b-dc07fdbbbbe5",
   "metadata": {},
   "outputs": [
    {
     "data": {
      "text/plain": [
       "[('民國', 1911), ('清', 1636), ('明', 1368), ('元', 1271), ('金', 1115)]"
      ]
     },
     "execution_count": 2,
     "metadata": {},
     "output_type": "execute_result"
    }
   ],
   "source": [
    "dyn_list = Path(\"../data/cbeta_dynasty.txt\").read_text().strip().split(\"\\n\")\n",
    "dyn_list = {dyn_x: year_x\n",
    "            for dyn_x, year_x in map(lambda x: x.split(\" \"), dyn_list)}\n",
    "dyn_year = {dyn_x: int(year_x.split(\"–\")[0])  # split by an en-dash\n",
    "            for dyn_x, year_x in dyn_list.items()}\n",
    "list(dyn_year.items())[:5]"
   ]
  },
  {
   "cell_type": "code",
   "execution_count": 3,
   "id": "f1d641b2-e5fc-4ff0-b790-69c1867668a2",
   "metadata": {},
   "outputs": [],
   "source": [
    "cjk_pat = re.compile(f\"[{zhon.hanzi.characters}]\")\n",
    "def count_target(re_pat, text):\n",
    "    return sum(1 for _ in re_pat.finditer(text))\n",
    "\n",
    "def count_character(text):\n",
    "    return sum(1 for _ in cjk_pat.finditer(text))\n",
    "\n",
    "def count_char_dict(text):\n",
    "    return Counter(cjk_pat.findall(text))\n",
    "\n",
    "def get_dynasty(author_field):\n",
    "    tok = author_field.split()\n",
    "    if tok and (tok[0] in dyn_list):\n",
    "        return tok[0]\n",
    "    else:\n",
    "        return None"
   ]
  },
  {
   "cell_type": "code",
   "execution_count": 4,
   "id": "c23c82f7-ac59-4342-93cf-1d554d9230b0",
   "metadata": {},
   "outputs": [],
   "source": [
    "xml_dir = Path(\"../corpus/Bookcase/CBETA/XML/\")\n",
    "xml_paths = list(xml_dir.glob(\"**/*.xml\"))\n",
    "authors = []\n",
    "\n",
    "tree = etree.parse(xml_paths[0])\n",
    "root = tree.getroot()\n",
    "nsmap = root.nsmap\n",
    "nsmap.pop(None)\n",
    "nsmap = {\"tei\": \"http://www.tei-c.org/ns/1.0\", **nsmap}"
   ]
  },
  {
   "cell_type": "code",
   "execution_count": 5,
   "id": "2c07a07b-449c-4afc-9ffc-fea965d26c13",
   "metadata": {},
   "outputs": [],
   "source": [
    "\n",
    "def make_dyn_charfreq():\n",
    "    dyn_counter = {dyn_x: Counter() for dyn_x in dyn_list.keys()}\n",
    "\n",
    "    for path_x in tqdm(xml_paths):\n",
    "        tree = etree.parse(path_x)\n",
    "        root = tree.getroot() \n",
    "        author_elems = root.xpath(\"//tei:author\", namespaces=nsmap)\n",
    "        text_elems = root.xpath(\"//tei:text\", namespaces=nsmap)\n",
    "        assert len(text_elems)==1\n",
    "        if author_elems:            \n",
    "            author_text = ''.join(author_elems[0].itertext())    \n",
    "            dyn_x = get_dynasty(author_text)\n",
    "            if dyn_x is None: continue\n",
    "            fulltext = ''.join(text_elems[0].itertext())\n",
    "            char_dict = count_char_dict(fulltext)\n",
    "            dyn_counter[dyn_x].update(char_dict)\n",
    "    return dyn_counter"
   ]
  },
  {
   "cell_type": "code",
   "execution_count": 6,
   "id": "e65881de-0830-4543-a7c5-8e6ad0e1320c",
   "metadata": {},
   "outputs": [
    {
     "data": {
      "application/vnd.jupyter.widget-view+json": {
       "model_id": "43ee3e45acd84c1eaa1a9c2cac1a6e98",
       "version_major": 2,
       "version_minor": 0
      },
      "text/plain": [
       "  0%|          | 0/21648 [00:00<?, ?it/s]"
      ]
     },
     "metadata": {},
     "output_type": "display_data"
    }
   ],
   "source": [
    "dyn_char_freq = make_dyn_charfreq()"
   ]
  },
  {
   "cell_type": "code",
   "execution_count": null,
   "id": "abd24e78-78eb-485d-9695-7d1fb9fe7b4e",
   "metadata": {},
   "outputs": [],
   "source": []
  },
  {
   "cell_type": "code",
   "execution_count": 13,
   "id": "290d5bf0-d9a1-4512-a04e-ce04718bb6d6",
   "metadata": {},
   "outputs": [],
   "source": [
    "char_freq_df = pd.DataFrame(dict(\n",
    "            ntoken=[sum(x.values()) for x in dyn_char_freq.values()],\n",
    "            ntype=[len(x) for x in dyn_char_freq.values()]),\n",
    "        index=dyn_char_freq.keys())"
   ]
  },
  {
   "cell_type": "code",
   "execution_count": 15,
   "id": "4cef441f-139a-472a-b0b0-c7a5d8964b2e",
   "metadata": {},
   "outputs": [],
   "source": [
    "char_freq_df.to_csv(\"../data/cbeta.char_freq_stat.csv\")"
   ]
  },
  {
   "cell_type": "markdown",
   "id": "015e44a6-07f3-4825-bd45-da26ad9c54a5",
   "metadata": {},
   "source": [
    "## EDAs"
   ]
  },
  {
   "cell_type": "code",
   "execution_count": 8,
   "id": "e495c0dd-c166-45b2-bdff-99173e884fa8",
   "metadata": {},
   "outputs": [],
   "source": [
    "def make_dyn_textsize():\n",
    "    dyn_textsize = {dyn_x: 0 for dyn_x in dyn_list.keys()}\n",
    "\n",
    "    for path_x in tqdm(xml_paths):\n",
    "        tree = etree.parse(path_x)\n",
    "        root = tree.getroot() \n",
    "        author_elems = root.xpath(\"//tei:author\", namespaces=nsmap)\n",
    "        text_elems = root.xpath(\"//tei:text\", namespaces=nsmap)\n",
    "        assert len(text_elems)==1\n",
    "        if author_elems:\n",
    "            author_text = ''.join(author_elems[0].itertext())    \n",
    "            dyn_x = get_dynasty(author_text)\n",
    "            if dyn_x is None: continue\n",
    "            fulltext = ''.join(text_elems[0].itertext())\n",
    "            charcount = count_character(fulltext)\n",
    "            dyn_textsize[dyn_x] += charcount\n",
    "    return dyn_textsize"
   ]
  },
  {
   "cell_type": "code",
   "execution_count": 6,
   "id": "25dd0983-c046-4137-9945-b8d19efb2bab",
   "metadata": {},
   "outputs": [],
   "source": [
    "def make_dyn_freq(target_pat):\n",
    "    dyn_freq = {dyn_x: 0 for dyn_x in dyn_list.keys()}\n",
    "    dyn_textsize = {dyn_x: 0 for dyn_x in dyn_list.keys()}\n",
    "\n",
    "    for path_x in tqdm(xml_paths):\n",
    "        tree = etree.parse(path_x)\n",
    "        root = tree.getroot() \n",
    "        author_elems = root.xpath(\"//tei:author\", namespaces=nsmap)\n",
    "        text_elems = root.xpath(\"//tei:text\", namespaces=nsmap)\n",
    "        assert len(text_elems)==1\n",
    "        if author_elems:\n",
    "            author_text = ''.join(author_elems[0].itertext())    \n",
    "            dyn_x = get_dynasty(author_text)\n",
    "            if dyn_x is None: continue\n",
    "            fulltext = ''.join(text_elems[0].itertext())\n",
    "            freq = count_target(target_pat, fulltext)\n",
    "            dyn_freq[dyn_x] += freq   \n",
    "    return dyn_freq"
   ]
  },
  {
   "cell_type": "code",
   "execution_count": 9,
   "id": "250af9ef-4bc7-4889-93ca-561c1ef411e2",
   "metadata": {},
   "outputs": [
    {
     "data": {
      "application/vnd.jupyter.widget-view+json": {
       "model_id": "fab740981a874530978ef9667771d527",
       "version_major": 2,
       "version_minor": 0
      },
      "text/plain": [
       "  0%|          | 0/21648 [00:00<?, ?it/s]"
      ]
     },
     "metadata": {},
     "output_type": "display_data"
    }
   ],
   "source": [
    "dyn_textsize = make_dyn_textsize()"
   ]
  },
  {
   "cell_type": "code",
   "execution_count": 12,
   "id": "5d9325af-7a78-4f5a-80a9-f13168f7deb8",
   "metadata": {},
   "outputs": [
    {
     "data": {
      "application/vnd.jupyter.widget-view+json": {
       "model_id": "29aaa9d676cf447badf2a500efd4b9fa",
       "version_major": 2,
       "version_minor": 0
      },
      "text/plain": [
       "  0%|          | 0/21648 [00:00<?, ?it/s]"
      ]
     },
     "metadata": {},
     "output_type": "display_data"
    }
   ],
   "source": [
    "target_pat = re.compile(\"眼\")\n",
    "dyn_freq = make_dyn_freq(target_pat)"
   ]
  },
  {
   "cell_type": "code",
   "execution_count": 15,
   "id": "af29ff2f-6e1c-44e4-a14d-f90380a2df7f",
   "metadata": {},
   "outputs": [
    {
     "data": {
      "text/plain": [
       "{'民國': 1911,\n",
       " '清': 1636,\n",
       " '明': 1368,\n",
       " '元': 1271,\n",
       " '金': 1115,\n",
       " '宋': 960,\n",
       " '遼': 960,\n",
       " '後漢': 947,\n",
       " '吳': 907,\n",
       " '唐': 618,\n",
       " '隋': 581,\n",
       " '陳': 557,\n",
       " '北周': 557,\n",
       " '梁': 555,\n",
       " '蕭齊': 479,\n",
       " '劉宋': 420,\n",
       " '北涼': 397,\n",
       " '元魏': 386,\n",
       " '後魏': 386,\n",
       " '姚秦': 384,\n",
       " '後秦': 384,\n",
       " '符秦': 350,\n",
       " '東晉': 317,\n",
       " '西晉': 266,\n",
       " '曹魏': 220,\n",
       " '新羅': -57}"
      ]
     },
     "execution_count": 15,
     "metadata": {},
     "output_type": "execute_result"
    }
   ],
   "source": [
    "dyn_year"
   ]
  },
  {
   "cell_type": "code",
   "execution_count": 13,
   "id": "38559aa2-b7e6-407b-9f1e-e91586379944",
   "metadata": {},
   "outputs": [
    {
     "data": {
      "image/png": "[encoded data removed]",
      "text/plain": [
       "<Figure size 432x288 with 1 Axes>"
      ]
     },
     "metadata": {
      "needs_background": "light"
     },
     "output_type": "display_data"
    }
   ],
   "source": [
    "import matplotlib.pyplot as plt\n",
    "ratio_by_dyn = [dyn_freq[dyn_x]/dyn_textsize[dyn_x] \n",
    "                for dyn_x in dyn_list.keys()]\n",
    "plt.plot([dyn_year[x] for x in dyn_list.keys()], ratio_by_dyn)\n",
    "_ = plt.xticks(rotation=45)"
   ]
  },
  {
   "cell_type": "code",
   "execution_count": 17,
   "id": "c1ff2fd7-3814-4667-b2ad-79ef760d9b52",
   "metadata": {},
   "outputs": [],
   "source": [
    "import pandas as pd"
   ]
  },
  {
   "cell_type": "code",
   "execution_count": 24,
   "id": "52cc3fe8-3b56-4ac1-9e0a-b25ec64a1ec0",
   "metadata": {},
   "outputs": [],
   "source": [
    "dyn_df = pd.DataFrame(    \n",
    "            dict(year=dyn_year.values(),\n",
    "                 target=dyn_freq.values(), \n",
    "                 nchar=dyn_textsize.values()), \n",
    "        index=dyn_freq.keys())"
   ]
  },
  {
   "cell_type": "markdown",
   "id": "64b9c23e-9771-4810-badd-43c28c1931ce",
   "metadata": {},
   "source": [
    "The intervals are defined ad-hoc. It is just for easier EDA\n",
    "```\n",
    "[-57, 317)      東晉之前\n",
    "[317, 581)      東晉到隋之前\n",
    "[581, 618)      隋\n",
    "[618, 960)      唐、五代十國\n",
    "[960, 1271)     宋\n",
    "[1271, 1636)    元、明、清\n",
    "```"
   ]
  },
  {
   "cell_type": "code",
   "execution_count": 59,
   "id": "d8d437ec-7b43-4617-9e78-22f69546d214",
   "metadata": {},
   "outputs": [],
   "source": [
    "dyn_spans = [\n",
    "    -57,317,581,618,960,1271,1636\n",
    "]\n",
    "span_df = dyn_df\\\n",
    "    .groupby(pd.cut(dyn_df.year, dyn_spans, right=False))\\\n",
    "    .apply(lambda df_x: df_x.target.sum()/df_x.nchar.sum())"
   ]
  },
  {
   "cell_type": "code",
   "execution_count": 60,
   "id": "b973f919-ccad-4bb6-bba8-059dbbe996ad",
   "metadata": {},
   "outputs": [
    {
     "data": {
      "text/plain": [
       "year\n",
       "[-57, 317)      0.000662\n",
       "[317, 581)      0.000739\n",
       "[581, 618)      0.000729\n",
       "[618, 960)      0.000869\n",
       "[960, 1271)     0.000977\n",
       "[1271, 1636)    0.001032\n",
       "dtype: float64"
      ]
     },
     "execution_count": 60,
     "metadata": {},
     "output_type": "execute_result"
    }
   ],
   "source": [
    "span_df"
   ]
  },
  {
   "cell_type": "code",
   "execution_count": 61,
   "id": "254511fe-3260-4a37-9ea0-6daa507e7ce8",
   "metadata": {},
   "outputs": [
    {
     "data": {
      "text/plain": [
       "[<matplotlib.lines.Line2D at 0x7f1d394db2e0>]"
      ]
     },
     "execution_count": 61,
     "metadata": {},
     "output_type": "execute_result"
    },
    {
     "data": {
      "image/png": "[encoded data removed]",
      "text/plain": [
       "<Figure size 432x288 with 1 Axes>"
      ]
     },
     "metadata": {
      "needs_background": "light"
     },
     "output_type": "display_data"
    }
   ],
   "source": [
    "plt.plot([x.left for x in span_df.index], span_df.values)"
   ]
  },
  {
   "cell_type": "code",
   "execution_count": null,
   "id": "8865c5b6-d105-4fc4-8574-53e607879449",
   "metadata": {},
   "outputs": [],
   "source": []
  }
 ],
 "metadata": {
  "kernelspec": {
   "display_name": "Python 3 (ipykernel)",
   "language": "python",
   "name": "python3"
  },
  "language_info": {
   "codemirror_mode": {
    "name": "ipython",
    "version": 3
   },
   "file_extension": ".py",
   "mimetype": "text/x-python",
   "name": "python",
   "nbconvert_exporter": "python",
   "pygments_lexer": "ipython3",
   "version": "3.9.5"
  }
 },
 "nbformat": 4,
 "nbformat_minor": 5
}
